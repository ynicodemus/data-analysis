{
 "cells": [
  {
   "cell_type": "code",
   "execution_count": 39,
   "id": "f15c33ac-6b39-4edb-96a9-8ca87373f926",
   "metadata": {},
   "outputs": [],
   "source": [
    "import numpy as np\n",
    "import pandas as pd\n",
    "import warnings\n",
    "\n",
    "from scipy.stats import f_oneway\n",
    "warnings.filterwarnings('ignore')  #to ignore warnings"
   ]
  },
  {
   "cell_type": "markdown",
   "id": "f4449116-bf47-48ca-96cf-f1c49199912b",
   "metadata": {},
   "source": [
    "<h3 style=background-color:pink>Importing datasets using pandas</h3>"
   ]
  },
  {
   "cell_type": "code",
   "execution_count": 8,
   "id": "52348616-db9a-4764-aa96-e589a5883b16",
   "metadata": {},
   "outputs": [],
   "source": [
    "accidents = pd.read_csv('datasets\\\\accident_data.csv')"
   ]
  },
  {
   "cell_type": "markdown",
   "id": "b025d293-d17e-465d-b0d1-33096b184ddc",
   "metadata": {},
   "source": [
    "<h3 style=background-color:pink>Showing DataFrame</h3>"
   ]
  },
  {
   "cell_type": "code",
   "execution_count": 9,
   "id": "a80b8bad-6cd6-4c8e-8573-f25051861185",
   "metadata": {},
   "outputs": [
    {
     "name": "stdout",
     "output_type": "stream",
     "text": [
      "<class 'pandas.core.frame.DataFrame'>\n",
      "RangeIndex: 660679 entries, 0 to 660678\n",
      "Data columns (total 14 columns):\n",
      " #   Column                   Non-Null Count   Dtype  \n",
      "---  ------                   --------------   -----  \n",
      " 0   Index                    660679 non-null  object \n",
      " 1   Accident_Severity        660679 non-null  object \n",
      " 2   Accident Date            660679 non-null  object \n",
      " 3   Latitude                 660654 non-null  float64\n",
      " 4   Light_Conditions         660679 non-null  object \n",
      " 5   District Area            660679 non-null  object \n",
      " 6   Longitude                660653 non-null  float64\n",
      " 7   Number_of_Casualties     660679 non-null  int64  \n",
      " 8   Number_of_Vehicles       660679 non-null  int64  \n",
      " 9   Road_Surface_Conditions  659953 non-null  object \n",
      " 10  Road_Type                656159 non-null  object \n",
      " 11  Urban_or_Rural_Area      660664 non-null  object \n",
      " 12  Weather_Conditions       646551 non-null  object \n",
      " 13  Vehicle_Type             660679 non-null  object \n",
      "dtypes: float64(2), int64(2), object(10)\n",
      "memory usage: 70.6+ MB\n"
     ]
    }
   ],
   "source": [
    "accidents.info()"
   ]
  },
  {
   "cell_type": "markdown",
   "id": "4389782e-75c8-4965-bbd6-d9ee1200affe",
   "metadata": {},
   "source": [
    "<h4 style=background-color:pink><i><--describe is for showing a table--></i></h4>"
   ]
  },
  {
   "cell_type": "code",
   "execution_count": 10,
   "id": "937385ed-e6b3-4e7e-b0e5-9e45bd7224e2",
   "metadata": {},
   "outputs": [
    {
     "data": {
      "text/html": [
       "<div>\n",
       "<style scoped>\n",
       "    .dataframe tbody tr th:only-of-type {\n",
       "        vertical-align: middle;\n",
       "    }\n",
       "\n",
       "    .dataframe tbody tr th {\n",
       "        vertical-align: top;\n",
       "    }\n",
       "\n",
       "    .dataframe thead th {\n",
       "        text-align: right;\n",
       "    }\n",
       "</style>\n",
       "<table border=\"1\" class=\"dataframe\">\n",
       "  <thead>\n",
       "    <tr style=\"text-align: right;\">\n",
       "      <th></th>\n",
       "      <th>Latitude</th>\n",
       "      <th>Longitude</th>\n",
       "      <th>Number_of_Casualties</th>\n",
       "      <th>Number_of_Vehicles</th>\n",
       "    </tr>\n",
       "  </thead>\n",
       "  <tbody>\n",
       "    <tr>\n",
       "      <th>count</th>\n",
       "      <td>660654.000000</td>\n",
       "      <td>660653.000000</td>\n",
       "      <td>660679.000000</td>\n",
       "      <td>660679.000000</td>\n",
       "    </tr>\n",
       "    <tr>\n",
       "      <th>mean</th>\n",
       "      <td>52.553866</td>\n",
       "      <td>-1.431210</td>\n",
       "      <td>1.357040</td>\n",
       "      <td>1.831255</td>\n",
       "    </tr>\n",
       "    <tr>\n",
       "      <th>std</th>\n",
       "      <td>1.406922</td>\n",
       "      <td>1.383330</td>\n",
       "      <td>0.824847</td>\n",
       "      <td>0.715269</td>\n",
       "    </tr>\n",
       "    <tr>\n",
       "      <th>min</th>\n",
       "      <td>49.914430</td>\n",
       "      <td>-7.516225</td>\n",
       "      <td>1.000000</td>\n",
       "      <td>1.000000</td>\n",
       "    </tr>\n",
       "    <tr>\n",
       "      <th>25%</th>\n",
       "      <td>51.490690</td>\n",
       "      <td>-2.332291</td>\n",
       "      <td>1.000000</td>\n",
       "      <td>1.000000</td>\n",
       "    </tr>\n",
       "    <tr>\n",
       "      <th>50%</th>\n",
       "      <td>52.315641</td>\n",
       "      <td>-1.411667</td>\n",
       "      <td>1.000000</td>\n",
       "      <td>2.000000</td>\n",
       "    </tr>\n",
       "    <tr>\n",
       "      <th>75%</th>\n",
       "      <td>53.453452</td>\n",
       "      <td>-0.232869</td>\n",
       "      <td>1.000000</td>\n",
       "      <td>2.000000</td>\n",
       "    </tr>\n",
       "    <tr>\n",
       "      <th>max</th>\n",
       "      <td>60.757544</td>\n",
       "      <td>1.762010</td>\n",
       "      <td>68.000000</td>\n",
       "      <td>32.000000</td>\n",
       "    </tr>\n",
       "  </tbody>\n",
       "</table>\n",
       "</div>"
      ],
      "text/plain": [
       "            Latitude      Longitude  Number_of_Casualties  Number_of_Vehicles\n",
       "count  660654.000000  660653.000000         660679.000000       660679.000000\n",
       "mean       52.553866      -1.431210              1.357040            1.831255\n",
       "std         1.406922       1.383330              0.824847            0.715269\n",
       "min        49.914430      -7.516225              1.000000            1.000000\n",
       "25%        51.490690      -2.332291              1.000000            1.000000\n",
       "50%        52.315641      -1.411667              1.000000            2.000000\n",
       "75%        53.453452      -0.232869              1.000000            2.000000\n",
       "max        60.757544       1.762010             68.000000           32.000000"
      ]
     },
     "execution_count": 10,
     "metadata": {},
     "output_type": "execute_result"
    }
   ],
   "source": [
    "accidents.describe()"
   ]
  },
  {
   "cell_type": "markdown",
   "id": "ecc8fdf8-e9bf-4ec4-b518-e28dd1841eab",
   "metadata": {},
   "source": [
    "<h3 style=background-color:pink>Showing Null values</h3>"
   ]
  },
  {
   "cell_type": "code",
   "execution_count": 11,
   "id": "bb92b578-4bc3-4b73-80a8-f903068954f6",
   "metadata": {},
   "outputs": [
    {
     "data": {
      "text/plain": [
       "Index                          0\n",
       "Accident_Severity              0\n",
       "Accident Date                  0\n",
       "Latitude                      25\n",
       "Light_Conditions               0\n",
       "District Area                  0\n",
       "Longitude                     26\n",
       "Number_of_Casualties           0\n",
       "Number_of_Vehicles             0\n",
       "Road_Surface_Conditions      726\n",
       "Road_Type                   4520\n",
       "Urban_or_Rural_Area           15\n",
       "Weather_Conditions         14128\n",
       "Vehicle_Type                   0\n",
       "dtype: int64"
      ]
     },
     "execution_count": 11,
     "metadata": {},
     "output_type": "execute_result"
    }
   ],
   "source": [
    "accidents.isnull().sum()"
   ]
  },
  {
   "cell_type": "markdown",
   "id": "3cabbe9f-a2bf-4157-9fc3-2f360c465400",
   "metadata": {},
   "source": [
    "<h4 style=background-color:pink><i><--setting a value for null--></i></h4>"
   ]
  },
  {
   "cell_type": "code",
   "execution_count": 12,
   "id": "f67aba15-bfa6-46ad-b067-ea4164b49b4d",
   "metadata": {},
   "outputs": [
    {
     "data": {
      "text/plain": [
       "Index                      0\n",
       "Accident_Severity          0\n",
       "Accident Date              0\n",
       "Latitude                   0\n",
       "Light_Conditions           0\n",
       "District Area              0\n",
       "Longitude                  0\n",
       "Number_of_Casualties       0\n",
       "Number_of_Vehicles         0\n",
       "Road_Surface_Conditions    0\n",
       "Road_Type                  0\n",
       "Urban_or_Rural_Area        0\n",
       "Weather_Conditions         0\n",
       "Vehicle_Type               0\n",
       "dtype: int64"
      ]
     },
     "execution_count": 12,
     "metadata": {},
     "output_type": "execute_result"
    }
   ],
   "source": [
    "accidents['Latitude'] = accidents['Latitude'].fillna(accidents['Latitude'].mode()[0])\n",
    "accidents['Longitude'] = accidents['Longitude'].fillna(accidents['Longitude'].mode()[0])\n",
    "accidents['Road_Surface_Conditions'] = accidents['Road_Surface_Conditions'].fillna(accidents['Road_Surface_Conditions'].mode()[0])\n",
    "accidents['Road_Type'] = accidents['Road_Type'].fillna('unknown')\n",
    "accidents['Urban_or_Rural_Area'] = accidents['Urban_or_Rural_Area'].fillna(accidents['Urban_or_Rural_Area'].mode()[0])\n",
    "accidents['Weather_Conditions'] = accidents['Weather_Conditions'].fillna('unnacounted')\n",
    "\n",
    "accidents.isnull().sum()"
   ]
  },
  {
   "cell_type": "markdown",
   "id": "5bbc15bc-5644-4fd7-b84f-d80905e21b86",
   "metadata": {},
   "source": [
    "<h3 style=background-color:pink>Showing DataTypes</h3>"
   ]
  },
  {
   "cell_type": "code",
   "execution_count": 13,
   "id": "424338af-3a30-4998-924c-6a6cc72c936d",
   "metadata": {},
   "outputs": [
    {
     "data": {
      "text/plain": [
       "Index                       object\n",
       "Accident_Severity           object\n",
       "Accident Date               object\n",
       "Latitude                   float64\n",
       "Light_Conditions            object\n",
       "District Area               object\n",
       "Longitude                  float64\n",
       "Number_of_Casualties         int64\n",
       "Number_of_Vehicles           int64\n",
       "Road_Surface_Conditions     object\n",
       "Road_Type                   object\n",
       "Urban_or_Rural_Area         object\n",
       "Weather_Conditions          object\n",
       "Vehicle_Type                object\n",
       "dtype: object"
      ]
     },
     "execution_count": 13,
     "metadata": {},
     "output_type": "execute_result"
    }
   ],
   "source": [
    "accidents.dtypes"
   ]
  },
  {
   "cell_type": "markdown",
   "id": "1b9ca7e0-f9dd-4381-9ba4-a59f5873a832",
   "metadata": {},
   "source": [
    "<h4 style=background-color:pink><i><--changing each DataTypes--></i></h4>"
   ]
  },
  {
   "cell_type": "code",
   "execution_count": 14,
   "id": "7a07d5ab-4fac-4644-975a-a904c8a975e8",
   "metadata": {},
   "outputs": [
    {
     "data": {
      "text/plain": [
       "Index                              object\n",
       "Accident_Severity                category\n",
       "Accident Date              datetime64[ns]\n",
       "Latitude                          float64\n",
       "Light_Conditions                 category\n",
       "District Area                    category\n",
       "Longitude                         float64\n",
       "Number_of_Casualties                int64\n",
       "Number_of_Vehicles                  int64\n",
       "Road_Surface_Conditions          category\n",
       "Road_Type                        category\n",
       "Urban_or_Rural_Area              category\n",
       "Weather_Conditions               category\n",
       "Vehicle_Type                     category\n",
       "dtype: object"
      ]
     },
     "execution_count": 14,
     "metadata": {},
     "output_type": "execute_result"
    }
   ],
   "source": [
    "accidents['Accident_Severity'] = accidents['Accident_Severity'].astype('category')\n",
    "accidents['Light_Conditions'] = accidents['Light_Conditions'].astype('category')\n",
    "accidents['District Area'] = accidents['District Area'].astype('category')\n",
    "accidents['Road_Surface_Conditions'] = accidents['Road_Surface_Conditions'].astype('category')\n",
    "accidents['Road_Type'] = accidents['Road_Type'].astype('category')\n",
    "accidents['Urban_or_Rural_Area'] = accidents['Urban_or_Rural_Area'].astype('category')\n",
    "accidents['Weather_Conditions'] = accidents['Weather_Conditions'].astype('category')\n",
    "accidents['Vehicle_Type'] = accidents['Vehicle_Type'].astype('category')\n",
    "\n",
    "#setting a DataTypes for date to a datetime\n",
    "accidents['Accident Date'] = pd.to_datetime(accidents['Accident Date'], dayfirst = True, errors = 'coerce')\n",
    "\n",
    "\n",
    "accidents.dtypes\n"
   ]
  },
  {
   "cell_type": "markdown",
   "id": "76f365c7-0528-49d6-a123-1d1dd1d29633",
   "metadata": {},
   "source": [
    "<h3 style=background-color:pink>Setting a</h3>"
   ]
  },
  {
   "cell_type": "code",
   "execution_count": 15,
   "id": "c752ea2a-1e80-4f53-9182-c4b72622450f",
   "metadata": {},
   "outputs": [
    {
     "data": {
      "text/plain": [
       "Index                           0\n",
       "Accident_Severity               0\n",
       "Accident Date              395672\n",
       "Latitude                        0\n",
       "Light_Conditions                0\n",
       "District Area                   0\n",
       "Longitude                       0\n",
       "Number_of_Casualties            0\n",
       "Number_of_Vehicles              0\n",
       "Road_Surface_Conditions         0\n",
       "Road_Type                       0\n",
       "Urban_or_Rural_Area             0\n",
       "Weather_Conditions              0\n",
       "Vehicle_Type                    0\n",
       "Year                       395672\n",
       "Month                      395672\n",
       "Day                        395672\n",
       "DayOfWeek                  395672\n",
       "dtype: int64"
      ]
     },
     "execution_count": 15,
     "metadata": {},
     "output_type": "execute_result"
    }
   ],
   "source": [
    "accidents['Year'] = accidents['Accident Date'].dt.year\n",
    "accidents['Month'] = accidents['Accident Date'].dt.month\n",
    "accidents['Day'] = accidents['Accident Date'].dt.day\n",
    "accidents['DayOfWeek'] = accidents['Accident Date'].dt.dayofweek\n",
    "\n",
    "accidents.isnull().sum()"
   ]
  },
  {
   "cell_type": "code",
   "execution_count": 16,
   "id": "4662fecc-1a32-4742-8286-67f6b7a0af7d",
   "metadata": {},
   "outputs": [],
   "source": [
    "y2019 = accidents[accidents['Year'] == 2019] #accessing all 2019 data recorded"
   ]
  },
  {
   "cell_type": "markdown",
   "id": "4b927ee2-bf26-4a5c-9dcf-530080150674",
   "metadata": {},
   "source": [
    "<h1 style=background-color:lightblue>[#1] Is it possible that next year, most accidents record can be fatal?</h1>"
   ]
  },
  {
   "cell_type": "code",
   "execution_count": 17,
   "id": "2bacb673-bcc4-4156-9903-f4e50a2b1b97",
   "metadata": {},
   "outputs": [
    {
     "data": {
      "text/plain": [
       "np.int64(71867)"
      ]
     },
     "execution_count": 17,
     "metadata": {},
     "output_type": "execute_result"
    }
   ],
   "source": [
    "y2019['Index'].count()"
   ]
  },
  {
   "cell_type": "code",
   "execution_count": 18,
   "id": "6a6a6591-8441-4d21-9563-c13a42304945",
   "metadata": {},
   "outputs": [
    {
     "data": {
      "text/plain": [
       "Accident_Severity\n",
       "Slight     60928\n",
       "Serious     9823\n",
       "Fatal       1116\n",
       "Name: count, dtype: int64"
      ]
     },
     "execution_count": 18,
     "metadata": {},
     "output_type": "execute_result"
    }
   ],
   "source": [
    "y2019['Accident_Severity'].value_counts()"
   ]
  },
  {
   "cell_type": "code",
   "execution_count": 19,
   "id": "cf12d490-8918-48d4-a269-9909fe439e9b",
   "metadata": {},
   "outputs": [
    {
     "data": {
      "text/plain": [
       "Index                      1.552868\n",
       "Accident_Severity          1.552868\n",
       "Accident Date              1.552868\n",
       "Latitude                   1.552868\n",
       "Light_Conditions           1.552868\n",
       "District Area              1.552868\n",
       "Longitude                  1.552868\n",
       "Number_of_Casualties       1.552868\n",
       "Number_of_Vehicles         1.552868\n",
       "Road_Surface_Conditions    1.552868\n",
       "Road_Type                  1.552868\n",
       "Urban_or_Rural_Area        1.552868\n",
       "Weather_Conditions         1.552868\n",
       "Vehicle_Type               1.552868\n",
       "Year                       1.552868\n",
       "Month                      1.552868\n",
       "Day                        1.552868\n",
       "DayOfWeek                  1.552868\n",
       "dtype: float64"
      ]
     },
     "execution_count": 19,
     "metadata": {},
     "output_type": "execute_result"
    }
   ],
   "source": [
    "y_2019 = y2019[y2019['Accident_Severity'] == 'Fatal'].count() / y2019['Accident_Severity'].count()\n",
    "y_2019 * 100"
   ]
  },
  {
   "cell_type": "markdown",
   "id": "1ba05ffe-56a8-49a6-bbee-5936b60199fd",
   "metadata": {},
   "source": [
    "<h1 style=background-color:lightgreen>[Insight #1] since the percentage of 2019 accidents record is very low. It is impossible that next year most recorded accidents can be fatal</h1>"
   ]
  },
  {
   "cell_type": "markdown",
   "id": "c8dbb942-af26-4e4e-8b53-2213c1f4da35",
   "metadata": {},
   "source": [
    "<h1 style=background-color:lightblue>[#2] Did the Fine weather influence the accident that happened in 2019?</h1>"
   ]
  },
  {
   "cell_type": "code",
   "execution_count": 20,
   "id": "a481838a-ee9f-438b-9805-39c79c949dcf",
   "metadata": {},
   "outputs": [
    {
     "data": {
      "text/plain": [
       "Index                      58345\n",
       "Accident_Severity          58345\n",
       "Accident Date              58345\n",
       "Latitude                   58345\n",
       "Light_Conditions           58345\n",
       "District Area              58345\n",
       "Longitude                  58345\n",
       "Number_of_Casualties       58345\n",
       "Number_of_Vehicles         58345\n",
       "Road_Surface_Conditions    58345\n",
       "Road_Type                  58345\n",
       "Urban_or_Rural_Area        58345\n",
       "Weather_Conditions         58345\n",
       "Vehicle_Type               58345\n",
       "Year                       58345\n",
       "Month                      58345\n",
       "Day                        58345\n",
       "DayOfWeek                  58345\n",
       "dtype: int64"
      ]
     },
     "execution_count": 20,
     "metadata": {},
     "output_type": "execute_result"
    }
   ],
   "source": [
    "y2019[y2019['Weather_Conditions'] == 'Fine no high winds'].count()"
   ]
  },
  {
   "cell_type": "code",
   "execution_count": 21,
   "id": "d56a8c02-4b90-402b-940d-2ca746c207f3",
   "metadata": {
    "scrolled": true
   },
   "outputs": [
    {
     "data": {
      "text/plain": [
       "Index                      81.184688\n",
       "Accident_Severity          81.184688\n",
       "Accident Date              81.184688\n",
       "Latitude                   81.184688\n",
       "Light_Conditions           81.184688\n",
       "District Area              81.184688\n",
       "Longitude                  81.184688\n",
       "Number_of_Casualties       81.184688\n",
       "Number_of_Vehicles         81.184688\n",
       "Road_Surface_Conditions    81.184688\n",
       "Road_Type                  81.184688\n",
       "Urban_or_Rural_Area        81.184688\n",
       "Weather_Conditions         81.184688\n",
       "Vehicle_Type               81.184688\n",
       "Year                       81.184688\n",
       "Month                      81.184688\n",
       "Day                        81.184688\n",
       "DayOfWeek                  81.184688\n",
       "dtype: float64"
      ]
     },
     "execution_count": 21,
     "metadata": {},
     "output_type": "execute_result"
    }
   ],
   "source": [
    "y_2019 = y2019[y2019['Weather_Conditions'] == 'Fine no high winds'].count() / y2019['Accident_Severity'].count()\n",
    "y_2019 * 100"
   ]
  },
  {
   "cell_type": "markdown",
   "id": "adb250e9-ef0f-421b-a691-66f61c0c726b",
   "metadata": {},
   "source": [
    "<h1 style=background-color:lightgreen>[Insight #2] Yes. Fine weather actually has a big influenced in an accident happened in wayback 2019. It means that the most accident happened during a nice weather</h1>"
   ]
  },
  {
   "cell_type": "markdown",
   "id": "55360d6b-b36f-41ce-8145-bd34d5774fda",
   "metadata": {},
   "source": [
    "<h1 style=background-color:lightblue>[#3] Is there a possibility that being in a dark place, can caused a slight accident?  </h1>"
   ]
  },
  {
   "cell_type": "code",
   "execution_count": 22,
   "id": "a12fd7ee-82c3-4adb-8937-404252706ed3",
   "metadata": {},
   "outputs": [
    {
     "data": {
      "text/plain": [
       "np.int64(660679)"
      ]
     },
     "execution_count": 22,
     "metadata": {},
     "output_type": "execute_result"
    }
   ],
   "source": [
    "accidents['Accident_Severity'].count()"
   ]
  },
  {
   "cell_type": "code",
   "execution_count": 23,
   "id": "4e1d977d-4bd4-4468-be82-07c8757564b2",
   "metadata": {
    "scrolled": true
   },
   "outputs": [
    {
     "data": {
      "text/plain": [
       "Light_Conditions\n",
       "Daylight                       484880\n",
       "Darkness - lights lit          129335\n",
       "Darkness - no lighting          37437\n",
       "Darkness - lighting unknown      6484\n",
       "Darkness - lights unlit          2543\n",
       "Name: count, dtype: int64"
      ]
     },
     "execution_count": 23,
     "metadata": {},
     "output_type": "execute_result"
    }
   ],
   "source": [
    "accidents['Light_Conditions'].value_counts()"
   ]
  },
  {
   "cell_type": "markdown",
   "id": "c1987507-58dd-49c8-9e17-557d1b10dd05",
   "metadata": {},
   "source": [
    "<h3 style=background-color:pink>Darkness</h3>"
   ]
  },
  {
   "cell_type": "code",
   "execution_count": 24,
   "id": "f14cd92f-e123-4eaa-b845-a24c37745a72",
   "metadata": {},
   "outputs": [],
   "source": [
    "Darkness = ['Darkness - lights lit', 'Darkness - no lighting', 'Darkness - lighting unknown', 'Darkness - lights unlit']"
   ]
  },
  {
   "cell_type": "code",
   "execution_count": 25,
   "id": "a03aafd9-6528-4e89-9d0e-3be775e64576",
   "metadata": {},
   "outputs": [
    {
     "data": {
      "text/plain": [
       "np.float64(26.60883727195809)"
      ]
     },
     "execution_count": 25,
     "metadata": {},
     "output_type": "execute_result"
    }
   ],
   "source": [
    "dark_accident = accidents[accidents['Light_Conditions'].isin(Darkness)].count() / accidents['Accident_Severity'].count()\n",
    "dark_accident['Accident_Severity'] * 100"
   ]
  },
  {
   "cell_type": "markdown",
   "id": "3aead7e0-4ae1-4f32-a43e-989fd4129405",
   "metadata": {},
   "source": [
    "<h3 style=background-color:pink>Daylight</h3>"
   ]
  },
  {
   "cell_type": "code",
   "execution_count": 26,
   "id": "c9949fb7-2a5b-47ec-9780-423a2dd5e9cd",
   "metadata": {},
   "outputs": [
    {
     "data": {
      "text/plain": [
       "np.float64(73.3911627280419)"
      ]
     },
     "execution_count": 26,
     "metadata": {},
     "output_type": "execute_result"
    }
   ],
   "source": [
    "day_accident = accidents[accidents['Light_Conditions'] == 'Daylight'].count() / accidents['Accident_Severity'].count()\n",
    "day_accident['Accident_Severity'] * 100"
   ]
  },
  {
   "cell_type": "markdown",
   "id": "4e6cbb21-024d-456d-b04e-2fdc9a3f745c",
   "metadata": {},
   "source": [
    "<h1 style=background-color:lightgreen>[Insight #3] There is a chance that accident can happen, but not as high as the chance with the daylight </h1>"
   ]
  },
  {
   "cell_type": "markdown",
   "id": "c552074c-c9d1-4245-a5b8-50780fe90b1e",
   "metadata": {},
   "source": [
    "<h1 style=background-color:lightblue>[#4] What year and weather has the most accident recorded with fatal injury  </h1>"
   ]
  },
  {
   "cell_type": "code",
   "execution_count": 27,
   "id": "080c6c64-ab73-4848-bfe9-902f4bd86592",
   "metadata": {},
   "outputs": [
    {
     "data": {
      "text/html": [
       "<div>\n",
       "<style scoped>\n",
       "    .dataframe tbody tr th:only-of-type {\n",
       "        vertical-align: middle;\n",
       "    }\n",
       "\n",
       "    .dataframe tbody tr th {\n",
       "        vertical-align: top;\n",
       "    }\n",
       "\n",
       "    .dataframe thead th {\n",
       "        text-align: right;\n",
       "    }\n",
       "</style>\n",
       "<table border=\"1\" class=\"dataframe\">\n",
       "  <thead>\n",
       "    <tr style=\"text-align: right;\">\n",
       "      <th>Weather_Conditions</th>\n",
       "      <th>Fine + high winds</th>\n",
       "      <th>Fine no high winds</th>\n",
       "      <th>Fog or mist</th>\n",
       "      <th>Other</th>\n",
       "      <th>Raining + high winds</th>\n",
       "      <th>Raining no high winds</th>\n",
       "      <th>Snowing + high winds</th>\n",
       "      <th>Snowing no high winds</th>\n",
       "      <th>unnacounted</th>\n",
       "    </tr>\n",
       "    <tr>\n",
       "      <th>Year</th>\n",
       "      <th></th>\n",
       "      <th></th>\n",
       "      <th></th>\n",
       "      <th></th>\n",
       "      <th></th>\n",
       "      <th></th>\n",
       "      <th></th>\n",
       "      <th></th>\n",
       "      <th></th>\n",
       "    </tr>\n",
       "  </thead>\n",
       "  <tbody>\n",
       "    <tr>\n",
       "      <th>2019.0</th>\n",
       "      <td>31</td>\n",
       "      <td>942</td>\n",
       "      <td>14</td>\n",
       "      <td>11</td>\n",
       "      <td>17</td>\n",
       "      <td>92</td>\n",
       "      <td>0</td>\n",
       "      <td>1</td>\n",
       "      <td>8</td>\n",
       "    </tr>\n",
       "    <tr>\n",
       "      <th>2020.0</th>\n",
       "      <td>32</td>\n",
       "      <td>740</td>\n",
       "      <td>11</td>\n",
       "      <td>18</td>\n",
       "      <td>20</td>\n",
       "      <td>104</td>\n",
       "      <td>1</td>\n",
       "      <td>2</td>\n",
       "      <td>14</td>\n",
       "    </tr>\n",
       "    <tr>\n",
       "      <th>2021.0</th>\n",
       "      <td>14</td>\n",
       "      <td>651</td>\n",
       "      <td>8</td>\n",
       "      <td>19</td>\n",
       "      <td>15</td>\n",
       "      <td>97</td>\n",
       "      <td>0</td>\n",
       "      <td>7</td>\n",
       "      <td>12</td>\n",
       "    </tr>\n",
       "    <tr>\n",
       "      <th>2022.0</th>\n",
       "      <td>6</td>\n",
       "      <td>522</td>\n",
       "      <td>5</td>\n",
       "      <td>18</td>\n",
       "      <td>6</td>\n",
       "      <td>38</td>\n",
       "      <td>0</td>\n",
       "      <td>13</td>\n",
       "      <td>15</td>\n",
       "    </tr>\n",
       "  </tbody>\n",
       "</table>\n",
       "</div>"
      ],
      "text/plain": [
       "Weather_Conditions  Fine + high winds  Fine no high winds  Fog or mist  Other  \\\n",
       "Year                                                                            \n",
       "2019.0                             31                 942           14     11   \n",
       "2020.0                             32                 740           11     18   \n",
       "2021.0                             14                 651            8     19   \n",
       "2022.0                              6                 522            5     18   \n",
       "\n",
       "Weather_Conditions  Raining + high winds  Raining no high winds  \\\n",
       "Year                                                              \n",
       "2019.0                                17                     92   \n",
       "2020.0                                20                    104   \n",
       "2021.0                                15                     97   \n",
       "2022.0                                 6                     38   \n",
       "\n",
       "Weather_Conditions  Snowing + high winds  Snowing no high winds  unnacounted  \n",
       "Year                                                                          \n",
       "2019.0                                 0                      1            8  \n",
       "2020.0                                 1                      2           14  \n",
       "2021.0                                 0                      7           12  \n",
       "2022.0                                 0                     13           15  "
      ]
     },
     "execution_count": 27,
     "metadata": {},
     "output_type": "execute_result"
    }
   ],
   "source": [
    "acdnt_year = np.round(accidents[accidents[\"Accident_Severity\"] == 'Fatal'].groupby(['Year', 'Weather_Conditions']).size())\n",
    "acdnt_year.unstack()"
   ]
  },
  {
   "cell_type": "markdown",
   "id": "bba036e8-9ad9-4ce4-bf8d-a15beaf12ed5",
   "metadata": {},
   "source": [
    "<h1 style=background-color:lightgreen>[Insight #4] 2019 has the highest record of accident happened with fatal injury while the weather is normal/calm; total of 942 record </h1>"
   ]
  },
  {
   "cell_type": "markdown",
   "id": "8eab545e-c64d-46fe-b0c2-eb985f6dd871",
   "metadata": {},
   "source": [
    "<h1 style=background-color:lightgreen>[Insight #4.1]While the lowest accident recorded with fatal injury shows in year 2019 and 2020 in Snowing</h1>"
   ]
  },
  {
   "cell_type": "markdown",
   "id": "29e65a24-2088-4e2b-88d9-75eac97c07f8",
   "metadata": {},
   "source": [
    "<h1 style=background-color:lightblue>[#5] Which of the Month and Year has the most record of accident with fatal injury </h1>\n",
    "\n"
   ]
  },
  {
   "cell_type": "code",
   "execution_count": 28,
   "id": "128a17d5-a51d-4c14-8dc5-406dd895b0f4",
   "metadata": {
    "jp-MarkdownHeadingCollapsed": true
   },
   "outputs": [
    {
     "data": {
      "text/html": [
       "<div>\n",
       "<style scoped>\n",
       "    .dataframe tbody tr th:only-of-type {\n",
       "        vertical-align: middle;\n",
       "    }\n",
       "\n",
       "    .dataframe tbody tr th {\n",
       "        vertical-align: top;\n",
       "    }\n",
       "\n",
       "    .dataframe thead th {\n",
       "        text-align: right;\n",
       "    }\n",
       "</style>\n",
       "<table border=\"1\" class=\"dataframe\">\n",
       "  <thead>\n",
       "    <tr style=\"text-align: right;\">\n",
       "      <th></th>\n",
       "      <th>Accident_Severity</th>\n",
       "      <th>Fatal</th>\n",
       "      <th>Serious</th>\n",
       "      <th>Slight</th>\n",
       "    </tr>\n",
       "    <tr>\n",
       "      <th>Year</th>\n",
       "      <th>Month</th>\n",
       "      <th></th>\n",
       "      <th></th>\n",
       "      <th></th>\n",
       "    </tr>\n",
       "  </thead>\n",
       "  <tbody>\n",
       "    <tr>\n",
       "      <th rowspan=\"12\" valign=\"top\">2019.0</th>\n",
       "      <th>1.0</th>\n",
       "      <td>81</td>\n",
       "      <td>699</td>\n",
       "      <td>4538</td>\n",
       "    </tr>\n",
       "    <tr>\n",
       "      <th>2.0</th>\n",
       "      <td>83</td>\n",
       "      <td>750</td>\n",
       "      <td>5340</td>\n",
       "    </tr>\n",
       "    <tr>\n",
       "      <th>3.0</th>\n",
       "      <td>102</td>\n",
       "      <td>775</td>\n",
       "      <td>5026</td>\n",
       "    </tr>\n",
       "    <tr>\n",
       "      <th>4.0</th>\n",
       "      <td>91</td>\n",
       "      <td>811</td>\n",
       "      <td>4276</td>\n",
       "    </tr>\n",
       "    <tr>\n",
       "      <th>5.0</th>\n",
       "      <td>96</td>\n",
       "      <td>803</td>\n",
       "      <td>5366</td>\n",
       "    </tr>\n",
       "    <tr>\n",
       "      <th>6.0</th>\n",
       "      <td>73</td>\n",
       "      <td>865</td>\n",
       "      <td>4902</td>\n",
       "    </tr>\n",
       "    <tr>\n",
       "      <th>7.0</th>\n",
       "      <td>86</td>\n",
       "      <td>821</td>\n",
       "      <td>5173</td>\n",
       "    </tr>\n",
       "    <tr>\n",
       "      <th>8.0</th>\n",
       "      <td>105</td>\n",
       "      <td>886</td>\n",
       "      <td>5004</td>\n",
       "    </tr>\n",
       "    <tr>\n",
       "      <th>9.0</th>\n",
       "      <td>101</td>\n",
       "      <td>858</td>\n",
       "      <td>4990</td>\n",
       "    </tr>\n",
       "    <tr>\n",
       "      <th>10.0</th>\n",
       "      <td>86</td>\n",
       "      <td>831</td>\n",
       "      <td>5312</td>\n",
       "    </tr>\n",
       "    <tr>\n",
       "      <th>11.0</th>\n",
       "      <td>97</td>\n",
       "      <td>870</td>\n",
       "      <td>5274</td>\n",
       "    </tr>\n",
       "    <tr>\n",
       "      <th>12.0</th>\n",
       "      <td>115</td>\n",
       "      <td>854</td>\n",
       "      <td>5727</td>\n",
       "    </tr>\n",
       "    <tr>\n",
       "      <th rowspan=\"12\" valign=\"top\">2020.0</th>\n",
       "      <th>1.0</th>\n",
       "      <td>91</td>\n",
       "      <td>644</td>\n",
       "      <td>4411</td>\n",
       "    </tr>\n",
       "    <tr>\n",
       "      <th>2.0</th>\n",
       "      <td>79</td>\n",
       "      <td>843</td>\n",
       "      <td>5100</td>\n",
       "    </tr>\n",
       "    <tr>\n",
       "      <th>3.0</th>\n",
       "      <td>76</td>\n",
       "      <td>726</td>\n",
       "      <td>4777</td>\n",
       "    </tr>\n",
       "    <tr>\n",
       "      <th>4.0</th>\n",
       "      <td>73</td>\n",
       "      <td>706</td>\n",
       "      <td>4678</td>\n",
       "    </tr>\n",
       "    <tr>\n",
       "      <th>5.0</th>\n",
       "      <td>96</td>\n",
       "      <td>863</td>\n",
       "      <td>4878</td>\n",
       "    </tr>\n",
       "    <tr>\n",
       "      <th>6.0</th>\n",
       "      <td>61</td>\n",
       "      <td>836</td>\n",
       "      <td>4873</td>\n",
       "    </tr>\n",
       "    <tr>\n",
       "      <th>7.0</th>\n",
       "      <td>89</td>\n",
       "      <td>759</td>\n",
       "      <td>5367</td>\n",
       "    </tr>\n",
       "    <tr>\n",
       "      <th>8.0</th>\n",
       "      <td>67</td>\n",
       "      <td>763</td>\n",
       "      <td>4564</td>\n",
       "    </tr>\n",
       "    <tr>\n",
       "      <th>9.0</th>\n",
       "      <td>73</td>\n",
       "      <td>768</td>\n",
       "      <td>5028</td>\n",
       "    </tr>\n",
       "    <tr>\n",
       "      <th>10.0</th>\n",
       "      <td>87</td>\n",
       "      <td>860</td>\n",
       "      <td>5328</td>\n",
       "    </tr>\n",
       "    <tr>\n",
       "      <th>11.0</th>\n",
       "      <td>82</td>\n",
       "      <td>731</td>\n",
       "      <td>5059</td>\n",
       "    </tr>\n",
       "    <tr>\n",
       "      <th>12.0</th>\n",
       "      <td>68</td>\n",
       "      <td>847</td>\n",
       "      <td>5812</td>\n",
       "    </tr>\n",
       "    <tr>\n",
       "      <th rowspan=\"12\" valign=\"top\">2021.0</th>\n",
       "      <th>1.0</th>\n",
       "      <td>66</td>\n",
       "      <td>582</td>\n",
       "      <td>3897</td>\n",
       "    </tr>\n",
       "    <tr>\n",
       "      <th>2.0</th>\n",
       "      <td>61</td>\n",
       "      <td>588</td>\n",
       "      <td>4389</td>\n",
       "    </tr>\n",
       "    <tr>\n",
       "      <th>3.0</th>\n",
       "      <td>68</td>\n",
       "      <td>663</td>\n",
       "      <td>4469</td>\n",
       "    </tr>\n",
       "    <tr>\n",
       "      <th>4.0</th>\n",
       "      <td>84</td>\n",
       "      <td>731</td>\n",
       "      <td>4128</td>\n",
       "    </tr>\n",
       "    <tr>\n",
       "      <th>5.0</th>\n",
       "      <td>63</td>\n",
       "      <td>763</td>\n",
       "      <td>4439</td>\n",
       "    </tr>\n",
       "    <tr>\n",
       "      <th>6.0</th>\n",
       "      <td>62</td>\n",
       "      <td>763</td>\n",
       "      <td>4803</td>\n",
       "    </tr>\n",
       "    <tr>\n",
       "      <th>7.0</th>\n",
       "      <td>68</td>\n",
       "      <td>791</td>\n",
       "      <td>4796</td>\n",
       "    </tr>\n",
       "    <tr>\n",
       "      <th>8.0</th>\n",
       "      <td>79</td>\n",
       "      <td>757</td>\n",
       "      <td>4373</td>\n",
       "    </tr>\n",
       "    <tr>\n",
       "      <th>9.0</th>\n",
       "      <td>63</td>\n",
       "      <td>831</td>\n",
       "      <td>4755</td>\n",
       "    </tr>\n",
       "    <tr>\n",
       "      <th>10.0</th>\n",
       "      <td>70</td>\n",
       "      <td>802</td>\n",
       "      <td>5127</td>\n",
       "    </tr>\n",
       "    <tr>\n",
       "      <th>11.0</th>\n",
       "      <td>67</td>\n",
       "      <td>765</td>\n",
       "      <td>5520</td>\n",
       "    </tr>\n",
       "    <tr>\n",
       "      <th>12.0</th>\n",
       "      <td>72</td>\n",
       "      <td>822</td>\n",
       "      <td>5795</td>\n",
       "    </tr>\n",
       "    <tr>\n",
       "      <th rowspan=\"12\" valign=\"top\">2022.0</th>\n",
       "      <th>1.0</th>\n",
       "      <td>34</td>\n",
       "      <td>294</td>\n",
       "      <td>2915</td>\n",
       "    </tr>\n",
       "    <tr>\n",
       "      <th>2.0</th>\n",
       "      <td>46</td>\n",
       "      <td>587</td>\n",
       "      <td>4398</td>\n",
       "    </tr>\n",
       "    <tr>\n",
       "      <th>3.0</th>\n",
       "      <td>46</td>\n",
       "      <td>669</td>\n",
       "      <td>4427</td>\n",
       "    </tr>\n",
       "    <tr>\n",
       "      <th>4.0</th>\n",
       "      <td>52</td>\n",
       "      <td>580</td>\n",
       "      <td>3577</td>\n",
       "    </tr>\n",
       "    <tr>\n",
       "      <th>5.0</th>\n",
       "      <td>46</td>\n",
       "      <td>570</td>\n",
       "      <td>3740</td>\n",
       "    </tr>\n",
       "    <tr>\n",
       "      <th>6.0</th>\n",
       "      <td>65</td>\n",
       "      <td>615</td>\n",
       "      <td>4278</td>\n",
       "    </tr>\n",
       "    <tr>\n",
       "      <th>7.0</th>\n",
       "      <td>52</td>\n",
       "      <td>711</td>\n",
       "      <td>4226</td>\n",
       "    </tr>\n",
       "    <tr>\n",
       "      <th>8.0</th>\n",
       "      <td>60</td>\n",
       "      <td>610</td>\n",
       "      <td>3838</td>\n",
       "    </tr>\n",
       "    <tr>\n",
       "      <th>9.0</th>\n",
       "      <td>62</td>\n",
       "      <td>733</td>\n",
       "      <td>4296</td>\n",
       "    </tr>\n",
       "    <tr>\n",
       "      <th>10.0</th>\n",
       "      <td>66</td>\n",
       "      <td>759</td>\n",
       "      <td>4634</td>\n",
       "    </tr>\n",
       "    <tr>\n",
       "      <th>11.0</th>\n",
       "      <td>56</td>\n",
       "      <td>686</td>\n",
       "      <td>5033</td>\n",
       "    </tr>\n",
       "    <tr>\n",
       "      <th>12.0</th>\n",
       "      <td>38</td>\n",
       "      <td>452</td>\n",
       "      <td>3554</td>\n",
       "    </tr>\n",
       "  </tbody>\n",
       "</table>\n",
       "</div>"
      ],
      "text/plain": [
       "Accident_Severity  Fatal  Serious  Slight\n",
       "Year   Month                             \n",
       "2019.0 1.0            81      699    4538\n",
       "       2.0            83      750    5340\n",
       "       3.0           102      775    5026\n",
       "       4.0            91      811    4276\n",
       "       5.0            96      803    5366\n",
       "       6.0            73      865    4902\n",
       "       7.0            86      821    5173\n",
       "       8.0           105      886    5004\n",
       "       9.0           101      858    4990\n",
       "       10.0           86      831    5312\n",
       "       11.0           97      870    5274\n",
       "       12.0          115      854    5727\n",
       "2020.0 1.0            91      644    4411\n",
       "       2.0            79      843    5100\n",
       "       3.0            76      726    4777\n",
       "       4.0            73      706    4678\n",
       "       5.0            96      863    4878\n",
       "       6.0            61      836    4873\n",
       "       7.0            89      759    5367\n",
       "       8.0            67      763    4564\n",
       "       9.0            73      768    5028\n",
       "       10.0           87      860    5328\n",
       "       11.0           82      731    5059\n",
       "       12.0           68      847    5812\n",
       "2021.0 1.0            66      582    3897\n",
       "       2.0            61      588    4389\n",
       "       3.0            68      663    4469\n",
       "       4.0            84      731    4128\n",
       "       5.0            63      763    4439\n",
       "       6.0            62      763    4803\n",
       "       7.0            68      791    4796\n",
       "       8.0            79      757    4373\n",
       "       9.0            63      831    4755\n",
       "       10.0           70      802    5127\n",
       "       11.0           67      765    5520\n",
       "       12.0           72      822    5795\n",
       "2022.0 1.0            34      294    2915\n",
       "       2.0            46      587    4398\n",
       "       3.0            46      669    4427\n",
       "       4.0            52      580    3577\n",
       "       5.0            46      570    3740\n",
       "       6.0            65      615    4278\n",
       "       7.0            52      711    4226\n",
       "       8.0            60      610    3838\n",
       "       9.0            62      733    4296\n",
       "       10.0           66      759    4634\n",
       "       11.0           56      686    5033\n",
       "       12.0           38      452    3554"
      ]
     },
     "execution_count": 28,
     "metadata": {},
     "output_type": "execute_result"
    }
   ],
   "source": [
    "m_2019 = np.round(accidents.groupby(['Year' , 'Month', 'Accident_Severity']).size())\n",
    "m_2019.unstack()"
   ]
  },
  {
   "cell_type": "markdown",
   "id": "95f3d7f4-b8ab-4f19-8266-fdbb281319fb",
   "metadata": {
    "jp-MarkdownHeadingCollapsed": true
   },
   "source": [
    "<h1 style=background-color:lightgreen>[Insight #5] Most accident record happened in December 2019 with a total of 115 </h1>"
   ]
  },
  {
   "cell_type": "markdown",
   "id": "b0ed63ef-d84f-441f-8ac8-16f447c8b59c",
   "metadata": {},
   "source": [
    "<h1 style=background-color:lightblue>[#6] What kind of road type and places does the motorcycle most got involve in an accident based on the record?</h1>\n"
   ]
  },
  {
   "cell_type": "code",
   "execution_count": 29,
   "id": "052e8084-3d0b-404a-adaf-5ba3f7892ac1",
   "metadata": {},
   "outputs": [
    {
     "data": {
      "text/plain": [
       "Vehicle_Type\n",
       "Car                                      497992\n",
       "Van / Goods 3.5 tonnes mgw or under       34160\n",
       "Bus or coach (17 or more pass seats)      25878\n",
       "Motorcycle over 500cc                     25657\n",
       "Goods 7.5 tonnes mgw and over             17307\n",
       "Motorcycle 125cc and under                15269\n",
       "Taxi/Private hire car                     13294\n",
       "Motorcycle over 125cc and up to 500cc      7656\n",
       "Motorcycle 50cc and under                  7603\n",
       "Goods over 3.5t. and under 7.5t            6096\n",
       "Other vehicle                              5637\n",
       "Minibus (8 - 16 passenger seats)           1976\n",
       "Agricultural vehicle                       1947\n",
       "Pedal cycle                                 197\n",
       "Data missing or out of range                  6\n",
       "Ridden horse                                  4\n",
       "Name: count, dtype: int64"
      ]
     },
     "execution_count": 29,
     "metadata": {},
     "output_type": "execute_result"
    }
   ],
   "source": [
    "accidents['Vehicle_Type'].value_counts()"
   ]
  },
  {
   "cell_type": "code",
   "execution_count": 30,
   "id": "432d9017-eb4e-4454-9c76-6f644e4fc662",
   "metadata": {},
   "outputs": [],
   "source": [
    "motor_types = ['Motorcycle over 500cc', 'Motorcycle 125cc and under', 'Motorcycle over 125cc and up to 500cc', 'Motorcycle 50cc and under']"
   ]
  },
  {
   "cell_type": "code",
   "execution_count": 31,
   "id": "81530aca-feed-4b13-8b5c-acb0ae21461c",
   "metadata": {},
   "outputs": [
    {
     "data": {
      "text/html": [
       "<div>\n",
       "<style scoped>\n",
       "    .dataframe tbody tr th:only-of-type {\n",
       "        vertical-align: middle;\n",
       "    }\n",
       "\n",
       "    .dataframe tbody tr th {\n",
       "        vertical-align: top;\n",
       "    }\n",
       "\n",
       "    .dataframe thead th {\n",
       "        text-align: right;\n",
       "    }\n",
       "</style>\n",
       "<table border=\"1\" class=\"dataframe\">\n",
       "  <thead>\n",
       "    <tr style=\"text-align: right;\">\n",
       "      <th>Urban_or_Rural_Area</th>\n",
       "      <th>Rural</th>\n",
       "      <th>Unallocated</th>\n",
       "      <th>Urban</th>\n",
       "    </tr>\n",
       "    <tr>\n",
       "      <th>Road_Type</th>\n",
       "      <th></th>\n",
       "      <th></th>\n",
       "      <th></th>\n",
       "    </tr>\n",
       "  </thead>\n",
       "  <tbody>\n",
       "    <tr>\n",
       "      <th>Dual carriageway</th>\n",
       "      <td>3971</td>\n",
       "      <td>0</td>\n",
       "      <td>4482</td>\n",
       "    </tr>\n",
       "    <tr>\n",
       "      <th>One way street</th>\n",
       "      <td>86</td>\n",
       "      <td>0</td>\n",
       "      <td>1007</td>\n",
       "    </tr>\n",
       "    <tr>\n",
       "      <th>Roundabout</th>\n",
       "      <td>1247</td>\n",
       "      <td>0</td>\n",
       "      <td>2486</td>\n",
       "    </tr>\n",
       "    <tr>\n",
       "      <th>Single carriageway</th>\n",
       "      <td>13600</td>\n",
       "      <td>0</td>\n",
       "      <td>28359</td>\n",
       "    </tr>\n",
       "    <tr>\n",
       "      <th>Slip road</th>\n",
       "      <td>360</td>\n",
       "      <td>0</td>\n",
       "      <td>258</td>\n",
       "    </tr>\n",
       "    <tr>\n",
       "      <th>unknown</th>\n",
       "      <td>100</td>\n",
       "      <td>0</td>\n",
       "      <td>229</td>\n",
       "    </tr>\n",
       "  </tbody>\n",
       "</table>\n",
       "</div>"
      ],
      "text/plain": [
       "Urban_or_Rural_Area  Rural  Unallocated  Urban\n",
       "Road_Type                                     \n",
       "Dual carriageway      3971            0   4482\n",
       "One way street          86            0   1007\n",
       "Roundabout            1247            0   2486\n",
       "Single carriageway   13600            0  28359\n",
       "Slip road              360            0    258\n",
       "unknown                100            0    229"
      ]
     },
     "execution_count": 31,
     "metadata": {},
     "output_type": "execute_result"
    }
   ],
   "source": [
    "m_2019 = np.round(accidents[accidents['Vehicle_Type'].isin(motor_types)].groupby(['Road_Type', 'Urban_or_Rural_Area']).size())\n",
    "m_2019.unstack()"
   ]
  },
  {
   "cell_type": "markdown",
   "id": "66a6d150-3821-4581-bb30-b40125e79f8c",
   "metadata": {},
   "source": [
    "<h1 style=background-color:lightgreen>[Insight #6] Most motorcycle accident record happened in Urban with Single Carriageway Roadtype </h1>"
   ]
  },
  {
   "cell_type": "markdown",
   "id": "fb818eac-324c-4289-a682-6dae884a1540",
   "metadata": {},
   "source": [
    "<h1 style=background-color:lightblue>[#7] Which weather condition did the car got the highest number fatal injury</h1>\n"
   ]
  },
  {
   "cell_type": "code",
   "execution_count": 32,
   "id": "40108ea1-1b64-48b4-89e1-16c14c84ddc9",
   "metadata": {},
   "outputs": [
    {
     "data": {
      "text/plain": [
       "Weather_Conditions\n",
       "Fine no high winds       520885\n",
       "Raining no high winds     79696\n",
       "Other                     17150\n",
       "unnacounted               14128\n",
       "Raining + high winds       9615\n",
       "Fine + high winds          8554\n",
       "Snowing no high winds      6238\n",
       "Fog or mist                3528\n",
       "Snowing + high winds        885\n",
       "Name: count, dtype: int64"
      ]
     },
     "execution_count": 32,
     "metadata": {},
     "output_type": "execute_result"
    }
   ],
   "source": [
    "accidents['Weather_Conditions'].value_counts()"
   ]
  },
  {
   "cell_type": "code",
   "execution_count": 33,
   "id": "c85b5043-d321-4a2d-81cb-06f2a4a748e1",
   "metadata": {},
   "outputs": [],
   "source": [
    "weather_rain = ['Raining no high winds', 'Raining + high winds']\n",
    "weather_fine = ['Fine no high winds', 'Fine + high winds']"
   ]
  },
  {
   "cell_type": "markdown",
   "id": "4ebe75fd-c0df-470a-91a2-0ce1949f5e97",
   "metadata": {},
   "source": [
    "<h3 style=background-color:pink>Raining</h3>"
   ]
  },
  {
   "cell_type": "code",
   "execution_count": 34,
   "id": "9b34b50f-6890-46ae-b947-e8ca5d040f17",
   "metadata": {},
   "outputs": [
    {
     "data": {
      "text/html": [
       "<div>\n",
       "<style scoped>\n",
       "    .dataframe tbody tr th:only-of-type {\n",
       "        vertical-align: middle;\n",
       "    }\n",
       "\n",
       "    .dataframe tbody tr th {\n",
       "        vertical-align: top;\n",
       "    }\n",
       "\n",
       "    .dataframe thead th {\n",
       "        text-align: right;\n",
       "    }\n",
       "</style>\n",
       "<table border=\"1\" class=\"dataframe\">\n",
       "  <thead>\n",
       "    <tr style=\"text-align: right;\">\n",
       "      <th>Accident_Severity</th>\n",
       "      <th>Fatal</th>\n",
       "      <th>Serious</th>\n",
       "      <th>Slight</th>\n",
       "    </tr>\n",
       "    <tr>\n",
       "      <th>Vehicle_Type</th>\n",
       "      <th></th>\n",
       "      <th></th>\n",
       "      <th></th>\n",
       "    </tr>\n",
       "  </thead>\n",
       "  <tbody>\n",
       "    <tr>\n",
       "      <th>Agricultural vehicle</th>\n",
       "      <td>1</td>\n",
       "      <td>49</td>\n",
       "      <td>231</td>\n",
       "    </tr>\n",
       "    <tr>\n",
       "      <th>Bus or coach (17 or more pass seats)</th>\n",
       "      <td>42</td>\n",
       "      <td>430</td>\n",
       "      <td>3099</td>\n",
       "    </tr>\n",
       "    <tr>\n",
       "      <th>Car</th>\n",
       "      <td>751</td>\n",
       "      <td>8060</td>\n",
       "      <td>58335</td>\n",
       "    </tr>\n",
       "    <tr>\n",
       "      <th>Data missing or out of range</th>\n",
       "      <td>0</td>\n",
       "      <td>0</td>\n",
       "      <td>0</td>\n",
       "    </tr>\n",
       "    <tr>\n",
       "      <th>Goods 7.5 tonnes mgw and over</th>\n",
       "      <td>27</td>\n",
       "      <td>274</td>\n",
       "      <td>2088</td>\n",
       "    </tr>\n",
       "    <tr>\n",
       "      <th>Goods over 3.5t. and under 7.5t</th>\n",
       "      <td>2</td>\n",
       "      <td>94</td>\n",
       "      <td>716</td>\n",
       "    </tr>\n",
       "    <tr>\n",
       "      <th>Minibus (8 - 16 passenger seats)</th>\n",
       "      <td>2</td>\n",
       "      <td>38</td>\n",
       "      <td>232</td>\n",
       "    </tr>\n",
       "    <tr>\n",
       "      <th>Motorcycle 125cc and under</th>\n",
       "      <td>21</td>\n",
       "      <td>266</td>\n",
       "      <td>1763</td>\n",
       "    </tr>\n",
       "    <tr>\n",
       "      <th>Motorcycle 50cc and under</th>\n",
       "      <td>10</td>\n",
       "      <td>116</td>\n",
       "      <td>878</td>\n",
       "    </tr>\n",
       "    <tr>\n",
       "      <th>Motorcycle over 125cc and up to 500cc</th>\n",
       "      <td>10</td>\n",
       "      <td>109</td>\n",
       "      <td>891</td>\n",
       "    </tr>\n",
       "    <tr>\n",
       "      <th>Motorcycle over 500cc</th>\n",
       "      <td>45</td>\n",
       "      <td>428</td>\n",
       "      <td>3016</td>\n",
       "    </tr>\n",
       "    <tr>\n",
       "      <th>Other vehicle</th>\n",
       "      <td>10</td>\n",
       "      <td>99</td>\n",
       "      <td>633</td>\n",
       "    </tr>\n",
       "    <tr>\n",
       "      <th>Pedal cycle</th>\n",
       "      <td>0</td>\n",
       "      <td>2</td>\n",
       "      <td>19</td>\n",
       "    </tr>\n",
       "    <tr>\n",
       "      <th>Ridden horse</th>\n",
       "      <td>0</td>\n",
       "      <td>0</td>\n",
       "      <td>1</td>\n",
       "    </tr>\n",
       "    <tr>\n",
       "      <th>Taxi/Private hire car</th>\n",
       "      <td>23</td>\n",
       "      <td>220</td>\n",
       "      <td>1569</td>\n",
       "    </tr>\n",
       "    <tr>\n",
       "      <th>Van / Goods 3.5 tonnes mgw or under</th>\n",
       "      <td>49</td>\n",
       "      <td>544</td>\n",
       "      <td>4118</td>\n",
       "    </tr>\n",
       "  </tbody>\n",
       "</table>\n",
       "</div>"
      ],
      "text/plain": [
       "Accident_Severity                      Fatal  Serious  Slight\n",
       "Vehicle_Type                                                 \n",
       "Agricultural vehicle                       1       49     231\n",
       "Bus or coach (17 or more pass seats)      42      430    3099\n",
       "Car                                      751     8060   58335\n",
       "Data missing or out of range               0        0       0\n",
       "Goods 7.5 tonnes mgw and over             27      274    2088\n",
       "Goods over 3.5t. and under 7.5t            2       94     716\n",
       "Minibus (8 - 16 passenger seats)           2       38     232\n",
       "Motorcycle 125cc and under                21      266    1763\n",
       "Motorcycle 50cc and under                 10      116     878\n",
       "Motorcycle over 125cc and up to 500cc     10      109     891\n",
       "Motorcycle over 500cc                     45      428    3016\n",
       "Other vehicle                             10       99     633\n",
       "Pedal cycle                                0        2      19\n",
       "Ridden horse                               0        0       1\n",
       "Taxi/Private hire car                     23      220    1569\n",
       "Van / Goods 3.5 tonnes mgw or under       49      544    4118"
      ]
     },
     "execution_count": 34,
     "metadata": {},
     "output_type": "execute_result"
    }
   ],
   "source": [
    "rain = np.round(accidents[accidents['Weather_Conditions'].isin(weather_rain)].groupby(['Vehicle_Type','Accident_Severity']).size())\n",
    "rain.unstack()"
   ]
  },
  {
   "cell_type": "markdown",
   "id": "e6221da6-b8d1-4119-a465-cfc8fa44352a",
   "metadata": {},
   "source": [
    "<h3 style=background-color:pink>Fine Weather</h3>"
   ]
  },
  {
   "cell_type": "code",
   "execution_count": 35,
   "id": "39c1c678-26b9-47cb-af3c-a830b53d5bb0",
   "metadata": {},
   "outputs": [
    {
     "data": {
      "text/html": [
       "<div>\n",
       "<style scoped>\n",
       "    .dataframe tbody tr th:only-of-type {\n",
       "        vertical-align: middle;\n",
       "    }\n",
       "\n",
       "    .dataframe tbody tr th {\n",
       "        vertical-align: top;\n",
       "    }\n",
       "\n",
       "    .dataframe thead th {\n",
       "        text-align: right;\n",
       "    }\n",
       "</style>\n",
       "<table border=\"1\" class=\"dataframe\">\n",
       "  <thead>\n",
       "    <tr style=\"text-align: right;\">\n",
       "      <th>Accident_Severity</th>\n",
       "      <th>Fatal</th>\n",
       "      <th>Serious</th>\n",
       "      <th>Slight</th>\n",
       "    </tr>\n",
       "    <tr>\n",
       "      <th>Vehicle_Type</th>\n",
       "      <th></th>\n",
       "      <th></th>\n",
       "      <th></th>\n",
       "    </tr>\n",
       "  </thead>\n",
       "  <tbody>\n",
       "    <tr>\n",
       "      <th>Agricultural vehicle</th>\n",
       "      <td>19</td>\n",
       "      <td>218</td>\n",
       "      <td>1296</td>\n",
       "    </tr>\n",
       "    <tr>\n",
       "      <th>Bus or coach (17 or more pass seats)</th>\n",
       "      <td>270</td>\n",
       "      <td>2794</td>\n",
       "      <td>17684</td>\n",
       "    </tr>\n",
       "    <tr>\n",
       "      <th>Car</th>\n",
       "      <td>5518</td>\n",
       "      <td>55275</td>\n",
       "      <td>338338</td>\n",
       "    </tr>\n",
       "    <tr>\n",
       "      <th>Data missing or out of range</th>\n",
       "      <td>0</td>\n",
       "      <td>0</td>\n",
       "      <td>5</td>\n",
       "    </tr>\n",
       "    <tr>\n",
       "      <th>Goods 7.5 tonnes mgw and over</th>\n",
       "      <td>178</td>\n",
       "      <td>1935</td>\n",
       "      <td>11727</td>\n",
       "    </tr>\n",
       "    <tr>\n",
       "      <th>Goods over 3.5t. and under 7.5t</th>\n",
       "      <td>59</td>\n",
       "      <td>717</td>\n",
       "      <td>4141</td>\n",
       "    </tr>\n",
       "    <tr>\n",
       "      <th>Minibus (8 - 16 passenger seats)</th>\n",
       "      <td>26</td>\n",
       "      <td>213</td>\n",
       "      <td>1347</td>\n",
       "    </tr>\n",
       "    <tr>\n",
       "      <th>Motorcycle 125cc and under</th>\n",
       "      <td>162</td>\n",
       "      <td>1668</td>\n",
       "      <td>10414</td>\n",
       "    </tr>\n",
       "    <tr>\n",
       "      <th>Motorcycle 50cc and under</th>\n",
       "      <td>84</td>\n",
       "      <td>841</td>\n",
       "      <td>5198</td>\n",
       "    </tr>\n",
       "    <tr>\n",
       "      <th>Motorcycle over 125cc and up to 500cc</th>\n",
       "      <td>92</td>\n",
       "      <td>851</td>\n",
       "      <td>5213</td>\n",
       "    </tr>\n",
       "    <tr>\n",
       "      <th>Motorcycle over 500cc</th>\n",
       "      <td>277</td>\n",
       "      <td>2869</td>\n",
       "      <td>17414</td>\n",
       "    </tr>\n",
       "    <tr>\n",
       "      <th>Other vehicle</th>\n",
       "      <td>59</td>\n",
       "      <td>621</td>\n",
       "      <td>3827</td>\n",
       "    </tr>\n",
       "    <tr>\n",
       "      <th>Pedal cycle</th>\n",
       "      <td>6</td>\n",
       "      <td>35</td>\n",
       "      <td>121</td>\n",
       "    </tr>\n",
       "    <tr>\n",
       "      <th>Ridden horse</th>\n",
       "      <td>0</td>\n",
       "      <td>0</td>\n",
       "      <td>3</td>\n",
       "    </tr>\n",
       "    <tr>\n",
       "      <th>Taxi/Private hire car</th>\n",
       "      <td>127</td>\n",
       "      <td>1463</td>\n",
       "      <td>9049</td>\n",
       "    </tr>\n",
       "    <tr>\n",
       "      <th>Van / Goods 3.5 tonnes mgw or under</th>\n",
       "      <td>398</td>\n",
       "      <td>3791</td>\n",
       "      <td>23096</td>\n",
       "    </tr>\n",
       "  </tbody>\n",
       "</table>\n",
       "</div>"
      ],
      "text/plain": [
       "Accident_Severity                      Fatal  Serious  Slight\n",
       "Vehicle_Type                                                 \n",
       "Agricultural vehicle                      19      218    1296\n",
       "Bus or coach (17 or more pass seats)     270     2794   17684\n",
       "Car                                     5518    55275  338338\n",
       "Data missing or out of range               0        0       5\n",
       "Goods 7.5 tonnes mgw and over            178     1935   11727\n",
       "Goods over 3.5t. and under 7.5t           59      717    4141\n",
       "Minibus (8 - 16 passenger seats)          26      213    1347\n",
       "Motorcycle 125cc and under               162     1668   10414\n",
       "Motorcycle 50cc and under                 84      841    5198\n",
       "Motorcycle over 125cc and up to 500cc     92      851    5213\n",
       "Motorcycle over 500cc                    277     2869   17414\n",
       "Other vehicle                             59      621    3827\n",
       "Pedal cycle                                6       35     121\n",
       "Ridden horse                               0        0       3\n",
       "Taxi/Private hire car                    127     1463    9049\n",
       "Van / Goods 3.5 tonnes mgw or under      398     3791   23096"
      ]
     },
     "execution_count": 35,
     "metadata": {},
     "output_type": "execute_result"
    }
   ],
   "source": [
    "fine = np.round(accidents[accidents['Weather_Conditions'].isin(weather_fine)].groupby(['Vehicle_Type','Accident_Severity']).size())\n",
    "fine.unstack()"
   ]
  },
  {
   "cell_type": "markdown",
   "id": "3d4f0522-7476-4d2d-a160-f1ccb8b160c6",
   "metadata": {
    "jp-MarkdownHeadingCollapsed": true
   },
   "source": [
    "<h1 style=background-color:lightgreen>[Insight #7] Most Fatal Accident in Car Type happened when the weather is fine </h1>"
   ]
  },
  {
   "cell_type": "markdown",
   "id": "9e610530-c4a5-48b2-85d3-9c306aa1ca82",
   "metadata": {},
   "source": [
    "<h1 style=background-color:lightblue>[#8]Does the wet road surface condition has an impact with the fatal injury</h1>\n"
   ]
  },
  {
   "cell_type": "code",
   "execution_count": 36,
   "id": "723548de-b838-4fc8-9dcb-75133639519f",
   "metadata": {},
   "outputs": [
    {
     "data": {
      "text/plain": [
       "np.int64(660679)"
      ]
     },
     "execution_count": 36,
     "metadata": {},
     "output_type": "execute_result"
    }
   ],
   "source": [
    "accidents['Index'].count()"
   ]
  },
  {
   "cell_type": "code",
   "execution_count": 37,
   "id": "d683845a-373f-40d3-9763-a010d9b65ce3",
   "metadata": {},
   "outputs": [
    {
     "data": {
      "text/plain": [
       "Road_Surface_Conditions\n",
       "Dry                     448547\n",
       "Wet or damp             186708\n",
       "Frost or ice             18517\n",
       "Snow                      5890\n",
       "Flood over 3cm. deep      1017\n",
       "Name: count, dtype: int64"
      ]
     },
     "execution_count": 37,
     "metadata": {},
     "output_type": "execute_result"
    }
   ],
   "source": [
    "accidents['Road_Surface_Conditions'].value_counts()"
   ]
  },
  {
   "cell_type": "code",
   "execution_count": 38,
   "id": "970ea24c-6173-4127-8234-698ae2e12dcd",
   "metadata": {},
   "outputs": [
    {
     "data": {
      "text/plain": [
       "np.int64(186708)"
      ]
     },
     "execution_count": 38,
     "metadata": {},
     "output_type": "execute_result"
    }
   ],
   "source": [
    "wet = accidents[accidents['Road_Surface_Conditions'] == 'Wet or damp'].count()\n",
    "wet['Road_Surface_Conditions']"
   ]
  },
  {
   "cell_type": "code",
   "execution_count": 30,
   "id": "5fdc8d0f-0397-4490-a765-ddb5ffe237ef",
   "metadata": {},
   "outputs": [
    {
     "data": {
      "text/plain": [
       "np.int64(8661)"
      ]
     },
     "execution_count": 30,
     "metadata": {},
     "output_type": "execute_result"
    }
   ],
   "source": [
    "fatal = accidents[accidents['Accident_Severity'] == 'Fatal'].count()\n",
    "fatal['Accident_Severity']"
   ]
  },
  {
   "cell_type": "code",
   "execution_count": 46,
   "id": "75d705dc-ec3f-41dc-9f6d-882e4e937084",
   "metadata": {},
   "outputs": [
    {
     "data": {
      "text/plain": [
       "Index                      0.003263\n",
       "Accident_Severity          0.003263\n",
       "Accident Date              0.003205\n",
       "Latitude                   0.003263\n",
       "Light_Conditions           0.003263\n",
       "District Area              0.003263\n",
       "Longitude                  0.003263\n",
       "Number_of_Casualties       0.003263\n",
       "Number_of_Vehicles         0.003263\n",
       "Road_Surface_Conditions    0.003263\n",
       "Road_Type                  0.003263\n",
       "Urban_or_Rural_Area        0.003263\n",
       "Weather_Conditions         0.003263\n",
       "Vehicle_Type               0.003263\n",
       "Year                       0.003205\n",
       "Month                      0.003205\n",
       "Day                        0.003205\n",
       "DayOfWeek                  0.003205\n",
       "dtype: float64"
      ]
     },
     "execution_count": 46,
     "metadata": {},
     "output_type": "execute_result"
    }
   ],
   "source": [
    "r_a = accidents[accidents['Road_Surface_Conditions'] == 'Wet or damp'].count() / accidents[accidents['Accident_Severity'] == 'Fatal'].count()\n",
    "total = r_a / 660679\n",
    "total * 100"
   ]
  },
  {
   "cell_type": "markdown",
   "id": "03ccb1f0-d7fe-4983-aef4-11fa88de2e70",
   "metadata": {},
   "source": [
    "<h1 style=background-color:lightgreen>[Insight #8] </h1>"
   ]
  },
  {
   "cell_type": "markdown",
   "id": "f11ff2ff-c467-4ca0-8610-5722042237c7",
   "metadata": {
    "jp-MarkdownHeadingCollapsed": true
   },
   "source": [
    "<h1 style=background-color:lightblue>[#9]What is the average number of incident happened per month?</h1>\n"
   ]
  },
  {
   "cell_type": "code",
   "execution_count": null,
   "id": "0f605f48-c3de-4976-80a9-084daaf78d3d",
   "metadata": {},
   "outputs": [],
   "source": [
    "accidents['Month'].mean()"
   ]
  },
  {
   "cell_type": "code",
   "execution_count": null,
   "id": "0eb094df-f47a-4bd8-bb45-a554c57e79db",
   "metadata": {},
   "outputs": [],
   "source": [
    "months= accidents.groupby('Month').size()\n",
    "months"
   ]
  },
  {
   "cell_type": "code",
   "execution_count": null,
   "id": "2d02bbde-8fe2-4f2c-99c9-cae43dde6ea1",
   "metadata": {},
   "outputs": [],
   "source": [
    "accidents_per_month = monthly_accidents.mean()\n",
    "accidents_per_month"
   ]
  },
  {
   "cell_type": "markdown",
   "id": "40dde552-17b2-47b3-83d4-3ec0252f0bae",
   "metadata": {
    "jp-MarkdownHeadingCollapsed": true
   },
   "source": [
    "<h1 style=background-color:lightgreen>[Insight #9] 22083.9 Is the average accident per month</h1>"
   ]
  },
  {
   "cell_type": "markdown",
   "id": "a071f3ea-aa2a-45c7-b458-a90eca2a3468",
   "metadata": {
    "jp-MarkdownHeadingCollapsed": true
   },
   "source": [
    "<h1 style=background-color:lightblue>[#10]What district has the most record of accident in a year?</h1>"
   ]
  },
  {
   "cell_type": "code",
   "execution_count": null,
   "id": "7fc81837-5920-4cb0-8c65-2bf2747bff5e",
   "metadata": {},
   "outputs": [],
   "source": [
    "accidents['District Area'].value_counts()"
   ]
  },
  {
   "cell_type": "code",
   "execution_count": null,
   "id": "3d7f3bf8-ac03-45a7-bed4-83bd1ec8dbc6",
   "metadata": {},
   "outputs": [],
   "source": [
    "area_year = np.round(accidents[accidents['District Area'] == 'Birmingham'].groupby(['Year']).size())\n",
    "area_year"
   ]
  },
  {
   "cell_type": "markdown",
   "id": "5af10265-c561-4b11-8f33-0589e0cedd87",
   "metadata": {},
   "source": [
    "<h1 style=background-color:lightgreen>[Insight #10] District area name Birmingham has the most record of accident happen in year 2019 with 1554 records</h1>"
   ]
  },
  {
   "cell_type": "markdown",
   "id": "7bc981aa-9d74-45fe-93f8-760cade227ac",
   "metadata": {
    "jp-MarkdownHeadingCollapsed": true
   },
   "source": [
    "<h1 style=background-color:lightblue>[#11] Is it possible that the fatal injury might happened in that district?</h1>"
   ]
  },
  {
   "cell_type": "code",
   "execution_count": null,
   "id": "2759c11d-199c-4f52-90c2-379f9e2c48a9",
   "metadata": {},
   "outputs": [],
   "source": [
    "accidents['District Area'].value_counts()"
   ]
  },
  {
   "cell_type": "code",
   "execution_count": null,
   "id": "831166fb-8e7f-40c9-85a6-4f9884caac7d",
   "metadata": {},
   "outputs": [],
   "source": [
    "accidents['Accident_Severity'].value_counts()"
   ]
  },
  {
   "cell_type": "code",
   "execution_count": null,
   "id": "d3a1047f-f567-4b4a-ad99-18fc32fba8e3",
   "metadata": {},
   "outputs": [],
   "source": [
    "birminghan_fatal = accidents[(accidents['Accident_Severity'] == 'Fatal') & (accidents['District Area'] == 'Birmingham')]\n",
    "birminghan_fatal['Accident_Severity'].count()"
   ]
  },
  {
   "cell_type": "code",
   "execution_count": null,
   "id": "9ad53ee7-e81e-4f4d-bee3-bb3945dc28a1",
   "metadata": {},
   "outputs": [],
   "source": [
    "b_f = birminghan_fatal['Accident_Severity'].count() / accidents[accidents['Accident_Severity'] == 'Fatal'].count()\n",
    "b_f['Accident_Severity'] * 100"
   ]
  },
  {
   "cell_type": "markdown",
   "id": "5ca5b9b1-4aa0-485d-8449-fca33fb3995f",
   "metadata": {
    "jp-MarkdownHeadingCollapsed": true
   },
   "source": [
    "<h1 style=background-color:lightgreen>[Insight #11] There are a little chance that an accident with fatal injury might happened in the district named birminghan </h1>"
   ]
  },
  {
   "cell_type": "markdown",
   "id": "e5fe039b-b8ba-4f8c-ba4e-36038a15e405",
   "metadata": {
    "jp-MarkdownHeadingCollapsed": true
   },
   "source": [
    "<h1 style=background-color:lightblue>[#12]Correlation of Number of vehicle and Number of casualties </h1>"
   ]
  },
  {
   "cell_type": "code",
   "execution_count": 7,
   "id": "7658ada8-f5cd-4789-82da-78c11ea7697b",
   "metadata": {},
   "outputs": [
    {
     "data": {
      "text/plain": [
       "np.float64(0.22888886126927627)"
      ]
     },
     "execution_count": 7,
     "metadata": {},
     "output_type": "execute_result"
    }
   ],
   "source": [
    "accidents['Number_of_Vehicles'].corr(accidents['Number_of_Casualties'])"
   ]
  },
  {
   "cell_type": "markdown",
   "id": "69a4a801-56d9-4013-9e92-badfb41d2a93",
   "metadata": {},
   "source": [
    "<h1 style=background-color:lightgreen>[Insight #12] </h1>"
   ]
  },
  {
   "cell_type": "markdown",
   "id": "ef6aac0f-16ec-4cd6-9649-0afe6cd579cf",
   "metadata": {
    "jp-MarkdownHeadingCollapsed": true
   },
   "source": [
    "<h1 style=background-color:lightblue>[#13]What is the lowest accident_severity in the records?</h1>"
   ]
  },
  {
   "cell_type": "code",
   "execution_count": 66,
   "id": "88d497c2-ead5-4296-86a3-77e78d310143",
   "metadata": {},
   "outputs": [
    {
     "data": {
      "text/plain": [
       "Accident_Severity\n",
       "Slight     563801\n",
       "Serious     88217\n",
       "Fatal        8661\n",
       "Name: count, dtype: int64"
      ]
     },
     "execution_count": 66,
     "metadata": {},
     "output_type": "execute_result"
    }
   ],
   "source": [
    "accidents['Accident_Severity'].value_counts()"
   ]
  },
  {
   "cell_type": "markdown",
   "id": "124554d6-94fb-4a28-b926-4194b9f0129e",
   "metadata": {},
   "source": [
    "<h1 style=background-color:lightgreen>[Insight #13] Fatal is the lowest accident severity recorded</h1>"
   ]
  },
  {
   "cell_type": "markdown",
   "id": "f1f20368-fe11-4246-9d31-b3c468bea23c",
   "metadata": {
    "jp-MarkdownHeadingCollapsed": true
   },
   "source": [
    "<h1 style=background-color:lightblue>[#14]What is a type of vehicle that has the highest accident record?</h1>"
   ]
  },
  {
   "cell_type": "code",
   "execution_count": 77,
   "id": "3921eff7-9cf0-4179-8529-5b5513776eb9",
   "metadata": {},
   "outputs": [
    {
     "data": {
      "text/plain": [
       "Vehicle_Type\n",
       "Car                                      497992\n",
       "Van / Goods 3.5 tonnes mgw or under       34160\n",
       "Bus or coach (17 or more pass seats)      25878\n",
       "Motorcycle over 500cc                     25657\n",
       "Goods 7.5 tonnes mgw and over             17307\n",
       "Motorcycle 125cc and under                15269\n",
       "Taxi/Private hire car                     13294\n",
       "Motorcycle over 125cc and up to 500cc      7656\n",
       "Motorcycle 50cc and under                  7603\n",
       "Goods over 3.5t. and under 7.5t            6096\n",
       "Other vehicle                              5637\n",
       "Minibus (8 - 16 passenger seats)           1976\n",
       "Agricultural vehicle                       1947\n",
       "Pedal cycle                                 197\n",
       "Data missing or out of range                  6\n",
       "Ridden horse                                  4\n",
       "Name: count, dtype: int64"
      ]
     },
     "execution_count": 77,
     "metadata": {},
     "output_type": "execute_result"
    }
   ],
   "source": [
    "accidents['Vehicle_Type'].value_counts()"
   ]
  },
  {
   "cell_type": "markdown",
   "id": "8e11dbc4-c8d8-42ba-8959-8ae80708d145",
   "metadata": {},
   "source": [
    "<h1 style=background-color:lightgreen>[Insight #14] Car is the most vehicle type recorded</h1>"
   ]
  },
  {
   "cell_type": "markdown",
   "id": "43feae58-3970-479f-a844-7d8b3d51b9aa",
   "metadata": {
    "jp-MarkdownHeadingCollapsed": true
   },
   "source": [
    "<h1 style=background-color:lightblue>[#15]What is a type of vehicle that has the highest accident in a single cariageway roadtype that is more involved in fatal accidents?</h1>"
   ]
  },
  {
   "cell_type": "code",
   "execution_count": 64,
   "id": "0579c6e7-8222-4e42-83fc-4f77b2c46e27",
   "metadata": {},
   "outputs": [
    {
     "data": {
      "text/html": [
       "<div>\n",
       "<style scoped>\n",
       "    .dataframe tbody tr th:only-of-type {\n",
       "        vertical-align: middle;\n",
       "    }\n",
       "\n",
       "    .dataframe tbody tr th {\n",
       "        vertical-align: top;\n",
       "    }\n",
       "\n",
       "    .dataframe thead th {\n",
       "        text-align: right;\n",
       "    }\n",
       "</style>\n",
       "<table border=\"1\" class=\"dataframe\">\n",
       "  <thead>\n",
       "    <tr style=\"text-align: right;\">\n",
       "      <th>Road_Type</th>\n",
       "      <th>Dual carriageway</th>\n",
       "      <th>One way street</th>\n",
       "      <th>Roundabout</th>\n",
       "      <th>Single carriageway</th>\n",
       "      <th>Slip road</th>\n",
       "      <th>unknown</th>\n",
       "    </tr>\n",
       "    <tr>\n",
       "      <th>Vehicle_Type</th>\n",
       "      <th></th>\n",
       "      <th></th>\n",
       "      <th></th>\n",
       "      <th></th>\n",
       "      <th></th>\n",
       "      <th></th>\n",
       "    </tr>\n",
       "  </thead>\n",
       "  <tbody>\n",
       "    <tr>\n",
       "      <th>Agricultural vehicle</th>\n",
       "      <td>6</td>\n",
       "      <td>1</td>\n",
       "      <td>0</td>\n",
       "      <td>14</td>\n",
       "      <td>0</td>\n",
       "      <td>0</td>\n",
       "    </tr>\n",
       "    <tr>\n",
       "      <th>Bus or coach (17 or more pass seats)</th>\n",
       "      <td>63</td>\n",
       "      <td>2</td>\n",
       "      <td>6</td>\n",
       "      <td>249</td>\n",
       "      <td>3</td>\n",
       "      <td>2</td>\n",
       "    </tr>\n",
       "    <tr>\n",
       "      <th>Car</th>\n",
       "      <td>1364</td>\n",
       "      <td>69</td>\n",
       "      <td>109</td>\n",
       "      <td>4973</td>\n",
       "      <td>33</td>\n",
       "      <td>29</td>\n",
       "    </tr>\n",
       "    <tr>\n",
       "      <th>Data missing or out of range</th>\n",
       "      <td>0</td>\n",
       "      <td>0</td>\n",
       "      <td>0</td>\n",
       "      <td>0</td>\n",
       "      <td>0</td>\n",
       "      <td>0</td>\n",
       "    </tr>\n",
       "    <tr>\n",
       "      <th>Goods 7.5 tonnes mgw and over</th>\n",
       "      <td>49</td>\n",
       "      <td>3</td>\n",
       "      <td>4</td>\n",
       "      <td>158</td>\n",
       "      <td>2</td>\n",
       "      <td>0</td>\n",
       "    </tr>\n",
       "    <tr>\n",
       "      <th>Goods over 3.5t. and under 7.5t</th>\n",
       "      <td>13</td>\n",
       "      <td>4</td>\n",
       "      <td>0</td>\n",
       "      <td>48</td>\n",
       "      <td>1</td>\n",
       "      <td>1</td>\n",
       "    </tr>\n",
       "    <tr>\n",
       "      <th>Minibus (8 - 16 passenger seats)</th>\n",
       "      <td>5</td>\n",
       "      <td>0</td>\n",
       "      <td>0</td>\n",
       "      <td>24</td>\n",
       "      <td>0</td>\n",
       "      <td>0</td>\n",
       "    </tr>\n",
       "    <tr>\n",
       "      <th>Motorcycle 125cc and under</th>\n",
       "      <td>33</td>\n",
       "      <td>2</td>\n",
       "      <td>3</td>\n",
       "      <td>150</td>\n",
       "      <td>1</td>\n",
       "      <td>0</td>\n",
       "    </tr>\n",
       "    <tr>\n",
       "      <th>Motorcycle 50cc and under</th>\n",
       "      <td>23</td>\n",
       "      <td>4</td>\n",
       "      <td>0</td>\n",
       "      <td>68</td>\n",
       "      <td>0</td>\n",
       "      <td>0</td>\n",
       "    </tr>\n",
       "    <tr>\n",
       "      <th>Motorcycle over 125cc and up to 500cc</th>\n",
       "      <td>22</td>\n",
       "      <td>0</td>\n",
       "      <td>5</td>\n",
       "      <td>78</td>\n",
       "      <td>0</td>\n",
       "      <td>0</td>\n",
       "    </tr>\n",
       "    <tr>\n",
       "      <th>Motorcycle over 500cc</th>\n",
       "      <td>82</td>\n",
       "      <td>4</td>\n",
       "      <td>4</td>\n",
       "      <td>247</td>\n",
       "      <td>2</td>\n",
       "      <td>0</td>\n",
       "    </tr>\n",
       "    <tr>\n",
       "      <th>Other vehicle</th>\n",
       "      <td>14</td>\n",
       "      <td>1</td>\n",
       "      <td>1</td>\n",
       "      <td>53</td>\n",
       "      <td>1</td>\n",
       "      <td>0</td>\n",
       "    </tr>\n",
       "    <tr>\n",
       "      <th>Pedal cycle</th>\n",
       "      <td>1</td>\n",
       "      <td>0</td>\n",
       "      <td>0</td>\n",
       "      <td>5</td>\n",
       "      <td>0</td>\n",
       "      <td>0</td>\n",
       "    </tr>\n",
       "    <tr>\n",
       "      <th>Ridden horse</th>\n",
       "      <td>0</td>\n",
       "      <td>0</td>\n",
       "      <td>0</td>\n",
       "      <td>0</td>\n",
       "      <td>0</td>\n",
       "      <td>0</td>\n",
       "    </tr>\n",
       "    <tr>\n",
       "      <th>Taxi/Private hire car</th>\n",
       "      <td>37</td>\n",
       "      <td>1</td>\n",
       "      <td>2</td>\n",
       "      <td>114</td>\n",
       "      <td>0</td>\n",
       "      <td>1</td>\n",
       "    </tr>\n",
       "    <tr>\n",
       "      <th>Van / Goods 3.5 tonnes mgw or under</th>\n",
       "      <td>103</td>\n",
       "      <td>4</td>\n",
       "      <td>8</td>\n",
       "      <td>346</td>\n",
       "      <td>6</td>\n",
       "      <td>0</td>\n",
       "    </tr>\n",
       "  </tbody>\n",
       "</table>\n",
       "</div>"
      ],
      "text/plain": [
       "Road_Type                              Dual carriageway  One way street  \\\n",
       "Vehicle_Type                                                              \n",
       "Agricultural vehicle                                  6               1   \n",
       "Bus or coach (17 or more pass seats)                 63               2   \n",
       "Car                                                1364              69   \n",
       "Data missing or out of range                          0               0   \n",
       "Goods 7.5 tonnes mgw and over                        49               3   \n",
       "Goods over 3.5t. and under 7.5t                      13               4   \n",
       "Minibus (8 - 16 passenger seats)                      5               0   \n",
       "Motorcycle 125cc and under                           33               2   \n",
       "Motorcycle 50cc and under                            23               4   \n",
       "Motorcycle over 125cc and up to 500cc                22               0   \n",
       "Motorcycle over 500cc                                82               4   \n",
       "Other vehicle                                        14               1   \n",
       "Pedal cycle                                           1               0   \n",
       "Ridden horse                                          0               0   \n",
       "Taxi/Private hire car                                37               1   \n",
       "Van / Goods 3.5 tonnes mgw or under                 103               4   \n",
       "\n",
       "Road_Type                              Roundabout  Single carriageway  \\\n",
       "Vehicle_Type                                                            \n",
       "Agricultural vehicle                            0                  14   \n",
       "Bus or coach (17 or more pass seats)            6                 249   \n",
       "Car                                           109                4973   \n",
       "Data missing or out of range                    0                   0   \n",
       "Goods 7.5 tonnes mgw and over                   4                 158   \n",
       "Goods over 3.5t. and under 7.5t                 0                  48   \n",
       "Minibus (8 - 16 passenger seats)                0                  24   \n",
       "Motorcycle 125cc and under                      3                 150   \n",
       "Motorcycle 50cc and under                       0                  68   \n",
       "Motorcycle over 125cc and up to 500cc           5                  78   \n",
       "Motorcycle over 500cc                           4                 247   \n",
       "Other vehicle                                   1                  53   \n",
       "Pedal cycle                                     0                   5   \n",
       "Ridden horse                                    0                   0   \n",
       "Taxi/Private hire car                           2                 114   \n",
       "Van / Goods 3.5 tonnes mgw or under             8                 346   \n",
       "\n",
       "Road_Type                              Slip road  unknown  \n",
       "Vehicle_Type                                               \n",
       "Agricultural vehicle                           0        0  \n",
       "Bus or coach (17 or more pass seats)           3        2  \n",
       "Car                                           33       29  \n",
       "Data missing or out of range                   0        0  \n",
       "Goods 7.5 tonnes mgw and over                  2        0  \n",
       "Goods over 3.5t. and under 7.5t                1        1  \n",
       "Minibus (8 - 16 passenger seats)               0        0  \n",
       "Motorcycle 125cc and under                     1        0  \n",
       "Motorcycle 50cc and under                      0        0  \n",
       "Motorcycle over 125cc and up to 500cc          0        0  \n",
       "Motorcycle over 500cc                          2        0  \n",
       "Other vehicle                                  1        0  \n",
       "Pedal cycle                                    0        0  \n",
       "Ridden horse                                   0        0  \n",
       "Taxi/Private hire car                          0        1  \n",
       "Van / Goods 3.5 tonnes mgw or under            6        0  "
      ]
     },
     "execution_count": 64,
     "metadata": {},
     "output_type": "execute_result"
    }
   ],
   "source": [
    "acdnt_year = np.round(accidents[accidents['Accident_Severity'] == 'Fatal'].groupby(['Vehicle_Type','Road_Type']).size())\n",
    "acdnt_year.unstack()"
   ]
  },
  {
   "cell_type": "markdown",
   "id": "88d357e4-90f3-42ff-881e-49a82286ffc0",
   "metadata": {},
   "source": [
    "<h1 style=background-color:lightgreen>[Insight #15] Car is the most vehicle type involve in fatal accidents</h1>"
   ]
  },
  {
   "cell_type": "markdown",
   "id": "fd4529e3-0165-4353-9eaa-d4883d8691e5",
   "metadata": {
    "jp-MarkdownHeadingCollapsed": true
   },
   "source": [
    "<h1 style=background-color:lightblue>[#16]what is the percentage of agricultural vehicle that involve in an accident in an urban area?</h1>"
   ]
  },
  {
   "cell_type": "code",
   "execution_count": 74,
   "id": "23bcbfee-4f02-4264-8882-3ea231ddee31",
   "metadata": {},
   "outputs": [
    {
     "data": {
      "text/plain": [
       "np.int64(1947)"
      ]
     },
     "execution_count": 74,
     "metadata": {},
     "output_type": "execute_result"
    }
   ],
   "source": [
    "accidents[accidents['Vehicle_Type'] == 'Agricultural vehicle']['Index'].count()"
   ]
  },
  {
   "cell_type": "code",
   "execution_count": null,
   "id": "d2d66c7a-4923-4930-9de1-b4d9b5aee003",
   "metadata": {},
   "outputs": [],
   "source": [
    "accidents['Vehicle_Type']"
   ]
  },
  {
   "cell_type": "code",
   "execution_count": null,
   "id": "1168ff61-6d54-4370-8ac3-00c5bfcc4176",
   "metadata": {},
   "outputs": [],
   "source": [
    "accidents[accidents['Vehicle_Type'] == 'Agricultural vehicle']"
   ]
  },
  {
   "cell_type": "code",
   "execution_count": 78,
   "id": "b432d597-e6d4-485b-b875-942fe6f9eef8",
   "metadata": {},
   "outputs": [
    {
     "data": {
      "text/plain": [
       "Urban_or_Rural_Area\n",
       "Rural           675\n",
       "Unallocated       0\n",
       "Urban          1272\n",
       "dtype: int64"
      ]
     },
     "execution_count": 78,
     "metadata": {},
     "output_type": "execute_result"
    }
   ],
   "source": [
    "agri = np.round(accidents[accidents['Vehicle_Type'] == 'Agricultural vehicle'].groupby(['Urban_or_Rural_Area']).size())\n",
    "agri"
   ]
  },
  {
   "cell_type": "code",
   "execution_count": 79,
   "id": "6d802e89-1b1e-40cd-8c2f-e8d4edb2f18d",
   "metadata": {},
   "outputs": [
    {
     "data": {
      "text/plain": [
       "65.33127889060091"
      ]
     },
     "execution_count": 79,
     "metadata": {},
     "output_type": "execute_result"
    }
   ],
   "source": [
    "agri_urban = 1272 / 1947\n",
    "agri_urban * 100"
   ]
  },
  {
   "cell_type": "markdown",
   "id": "c47af1f1-1478-47df-b0c8-1b3758d537c1",
   "metadata": {},
   "source": [
    "<h1 style=background-color:lightgreen>[Insight #16] 65% of an accident involving the agricultural vehicle happened in urban area</h1>"
   ]
  },
  {
   "cell_type": "markdown",
   "id": "222d119c-23b4-4cd3-b5e1-3aabc6f2c9f0",
   "metadata": {
    "jp-MarkdownHeadingCollapsed": true
   },
   "source": [
    "<h1 style=background-color:lightblue>[#17]What record of Fatal acccidenthas the highest record? Urban or Rural</h1>"
   ]
  },
  {
   "cell_type": "code",
   "execution_count": 84,
   "id": "96f239ef-87eb-46a8-96f2-108875f3b282",
   "metadata": {},
   "outputs": [
    {
     "data": {
      "text/html": [
       "<div>\n",
       "<style scoped>\n",
       "    .dataframe tbody tr th:only-of-type {\n",
       "        vertical-align: middle;\n",
       "    }\n",
       "\n",
       "    .dataframe tbody tr th {\n",
       "        vertical-align: top;\n",
       "    }\n",
       "\n",
       "    .dataframe thead th {\n",
       "        text-align: right;\n",
       "    }\n",
       "</style>\n",
       "<table border=\"1\" class=\"dataframe\">\n",
       "  <thead>\n",
       "    <tr style=\"text-align: right;\">\n",
       "      <th>Urban_or_Rural_Area</th>\n",
       "      <th>Rural</th>\n",
       "      <th>Unallocated</th>\n",
       "      <th>Urban</th>\n",
       "    </tr>\n",
       "    <tr>\n",
       "      <th>Accident_Severity</th>\n",
       "      <th></th>\n",
       "      <th></th>\n",
       "      <th></th>\n",
       "    </tr>\n",
       "  </thead>\n",
       "  <tbody>\n",
       "    <tr>\n",
       "      <th>Fatal</th>\n",
       "      <td>5601</td>\n",
       "      <td>0</td>\n",
       "      <td>3060</td>\n",
       "    </tr>\n",
       "    <tr>\n",
       "      <th>Serious</th>\n",
       "      <td>37312</td>\n",
       "      <td>1</td>\n",
       "      <td>50904</td>\n",
       "    </tr>\n",
       "    <tr>\n",
       "      <th>Slight</th>\n",
       "      <td>196077</td>\n",
       "      <td>10</td>\n",
       "      <td>367714</td>\n",
       "    </tr>\n",
       "  </tbody>\n",
       "</table>\n",
       "</div>"
      ],
      "text/plain": [
       "Urban_or_Rural_Area   Rural  Unallocated   Urban\n",
       "Accident_Severity                               \n",
       "Fatal                  5601            0    3060\n",
       "Serious               37312            1   50904\n",
       "Slight               196077           10  367714"
      ]
     },
     "execution_count": 84,
     "metadata": {},
     "output_type": "execute_result"
    }
   ],
   "source": [
    "acdnt_year = np.round(accidents.groupby(['Accident_Severity','Urban_or_Rural_Area']).size())\n",
    "acdnt_year.unstack()"
   ]
  },
  {
   "cell_type": "markdown",
   "id": "c0b393a3-ea20-4e99-b814-fc2a9bd5043a",
   "metadata": {
    "jp-MarkdownHeadingCollapsed": true
   },
   "source": [
    "<h1 style=background-color:lightgreen>[Insight #17] This insight shows that Most fatal accident is recorded from rural area</h1>"
   ]
  },
  {
   "cell_type": "markdown",
   "id": "7e47c31f-f4a1-4d9f-b12a-05d09e9dab12",
   "metadata": {
    "jp-MarkdownHeadingCollapsed": true
   },
   "source": [
    "<h1 style=background-color:lightblue>[#18]What month does the Motorcycle has a highest record accident urban area?</h1>"
   ]
  },
  {
   "cell_type": "code",
   "execution_count": 87,
   "id": "836cbe71-093a-4d56-8105-3a2df4a515dd",
   "metadata": {},
   "outputs": [],
   "source": [
    "motor_types = ['Motorcycle over 500cc', 'Motorcycle 125cc and under', 'Motorcycle over 125cc and up to 500cc', 'Motorcycle 50cc and under']"
   ]
  },
  {
   "cell_type": "code",
   "execution_count": 89,
   "id": "cda018b5-07ec-45a1-a0f5-53a1e6ac6550",
   "metadata": {},
   "outputs": [
    {
     "data": {
      "text/html": [
       "<div>\n",
       "<style scoped>\n",
       "    .dataframe tbody tr th:only-of-type {\n",
       "        vertical-align: middle;\n",
       "    }\n",
       "\n",
       "    .dataframe tbody tr th {\n",
       "        vertical-align: top;\n",
       "    }\n",
       "\n",
       "    .dataframe thead th {\n",
       "        text-align: right;\n",
       "    }\n",
       "</style>\n",
       "<table border=\"1\" class=\"dataframe\">\n",
       "  <thead>\n",
       "    <tr style=\"text-align: right;\">\n",
       "      <th>Month</th>\n",
       "      <th>1.0</th>\n",
       "      <th>2.0</th>\n",
       "      <th>3.0</th>\n",
       "      <th>4.0</th>\n",
       "      <th>5.0</th>\n",
       "      <th>6.0</th>\n",
       "      <th>7.0</th>\n",
       "      <th>8.0</th>\n",
       "      <th>9.0</th>\n",
       "      <th>10.0</th>\n",
       "      <th>11.0</th>\n",
       "      <th>12.0</th>\n",
       "    </tr>\n",
       "    <tr>\n",
       "      <th>Urban_or_Rural_Area</th>\n",
       "      <th></th>\n",
       "      <th></th>\n",
       "      <th></th>\n",
       "      <th></th>\n",
       "      <th></th>\n",
       "      <th></th>\n",
       "      <th></th>\n",
       "      <th></th>\n",
       "      <th></th>\n",
       "      <th></th>\n",
       "      <th></th>\n",
       "      <th></th>\n",
       "    </tr>\n",
       "  </thead>\n",
       "  <tbody>\n",
       "    <tr>\n",
       "      <th>Rural</th>\n",
       "      <td>546</td>\n",
       "      <td>732</td>\n",
       "      <td>636</td>\n",
       "      <td>589</td>\n",
       "      <td>587</td>\n",
       "      <td>641</td>\n",
       "      <td>691</td>\n",
       "      <td>671</td>\n",
       "      <td>624</td>\n",
       "      <td>690</td>\n",
       "      <td>647</td>\n",
       "      <td>773</td>\n",
       "    </tr>\n",
       "    <tr>\n",
       "      <th>Unallocated</th>\n",
       "      <td>0</td>\n",
       "      <td>0</td>\n",
       "      <td>0</td>\n",
       "      <td>0</td>\n",
       "      <td>0</td>\n",
       "      <td>0</td>\n",
       "      <td>0</td>\n",
       "      <td>0</td>\n",
       "      <td>0</td>\n",
       "      <td>0</td>\n",
       "      <td>0</td>\n",
       "      <td>0</td>\n",
       "    </tr>\n",
       "    <tr>\n",
       "      <th>Urban</th>\n",
       "      <td>999</td>\n",
       "      <td>1223</td>\n",
       "      <td>1282</td>\n",
       "      <td>1100</td>\n",
       "      <td>1219</td>\n",
       "      <td>1201</td>\n",
       "      <td>1235</td>\n",
       "      <td>1166</td>\n",
       "      <td>1259</td>\n",
       "      <td>1386</td>\n",
       "      <td>1391</td>\n",
       "      <td>1347</td>\n",
       "    </tr>\n",
       "  </tbody>\n",
       "</table>\n",
       "</div>"
      ],
      "text/plain": [
       "Month                1.0   2.0   3.0   4.0   5.0   6.0   7.0   8.0   9.0   \\\n",
       "Urban_or_Rural_Area                                                         \n",
       "Rural                 546   732   636   589   587   641   691   671   624   \n",
       "Unallocated             0     0     0     0     0     0     0     0     0   \n",
       "Urban                 999  1223  1282  1100  1219  1201  1235  1166  1259   \n",
       "\n",
       "Month                10.0  11.0  12.0  \n",
       "Urban_or_Rural_Area                    \n",
       "Rural                 690   647   773  \n",
       "Unallocated             0     0     0  \n",
       "Urban                1386  1391  1347  "
      ]
     },
     "execution_count": 89,
     "metadata": {},
     "output_type": "execute_result"
    }
   ],
   "source": [
    "motor = np.round(accidents[accidents['Vehicle_Type'].isin(motor_types)].groupby(['Urban_or_Rural_Area','Month']).size())\n",
    "motor.unstack()"
   ]
  },
  {
   "cell_type": "markdown",
   "id": "770e1ae2-2917-4fbd-963d-d42aa2404bed",
   "metadata": {},
   "source": [
    "<h1 style=background-color:lightgreen>[Insight #18] Month of november is a month where a motorcycle has a highest record</h1>"
   ]
  },
  {
   "cell_type": "markdown",
   "id": "17b0983f-098f-446c-b78c-5aebbfe45dee",
   "metadata": {
    "jp-MarkdownHeadingCollapsed": true
   },
   "source": [
    "<h1 style=background-color:lightblue>[#19]What district has the largest number of recorded accident?</h1>"
   ]
  },
  {
   "cell_type": "code",
   "execution_count": 8,
   "id": "4ea3a8e8-2da6-4c46-abc2-0ea0a4635d74",
   "metadata": {},
   "outputs": [
    {
     "data": {
      "text/plain": [
       "District Area\n",
       "Birmingham            13491\n",
       "Leeds                  8898\n",
       "Manchester             6720\n",
       "Bradford               6212\n",
       "Sheffield              5710\n",
       "                      ...  \n",
       "Berwick-upon-Tweed      153\n",
       "Teesdale                142\n",
       "Shetland Islands        133\n",
       "Orkney Islands          117\n",
       "Clackmannanshire         91\n",
       "Name: count, Length: 422, dtype: int64"
      ]
     },
     "execution_count": 8,
     "metadata": {},
     "output_type": "execute_result"
    }
   ],
   "source": [
    "accidents['District Area'].value_counts()"
   ]
  },
  {
   "cell_type": "markdown",
   "id": "3c095e65-97ae-464c-bd2c-288fb82f30a8",
   "metadata": {},
   "source": [
    "<h1 style=background-color:lightgreen>[Insight #19] Birmingham has the highest number of accidents recorded</h1>"
   ]
  },
  {
   "cell_type": "code",
   "execution_count": null,
   "id": "a37bc515-c646-405f-b022-78a14e78d08d",
   "metadata": {},
   "outputs": [],
   "source": []
  },
  {
   "cell_type": "code",
   "execution_count": null,
   "id": "9013bbff-3627-426d-a84a-b55ef873fd91",
   "metadata": {},
   "outputs": [],
   "source": []
  }
 ],
 "metadata": {
  "kernelspec": {
   "display_name": "Python 3 (ipykernel)",
   "language": "python",
   "name": "python3"
  },
  "language_info": {
   "codemirror_mode": {
    "name": "ipython",
    "version": 3
   },
   "file_extension": ".py",
   "mimetype": "text/x-python",
   "name": "python",
   "nbconvert_exporter": "python",
   "pygments_lexer": "ipython3",
   "version": "3.13.1"
  }
 },
 "nbformat": 4,
 "nbformat_minor": 5
}
